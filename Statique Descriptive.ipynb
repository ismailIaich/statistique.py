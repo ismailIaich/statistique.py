{
 "cells": [
  {
   "cell_type": "markdown",
   "id": "ac622319",
   "metadata": {},
   "source": [
    "# Descriptive Statistics Solutions"
   ]
  },
  {
   "cell_type": "markdown",
   "id": "aa8993e4",
   "metadata": {},
   "source": [
    "### Exercise 1"
   ]
  },
  {
   "cell_type": "markdown",
   "id": "5e0ab0d5",
   "metadata": {},
   "source": [
    "Premierement, on cree un tableau de 20 elements distribués qui suivent une loi normal (gaussienne)\n"
   ]
  },
  {
   "cell_type": "code",
   "execution_count": 2,
   "id": "34720ab6",
   "metadata": {},
   "outputs": [
    {
     "name": "stdout",
     "output_type": "stream",
     "text": [
      "[-10.85630603   9.97345447   2.82978498 ...  20.40431995  10.15916973\n",
      " -16.33788169]\n"
     ]
    }
   ],
   "source": [
    "import numpy as np\n",
    "np.random.seed(123) #est utilisée pour définir la graine de l’algorithme de générateur de nombres pseudo-aléatoires en Python\n",
    "x = np.random.normal(0,10,3000)\n",
    "print(x)"
   ]
  },
  {
   "cell_type": "markdown",
   "id": "8c94f310",
   "metadata": {},
   "source": [
    "**Moyenne**\n",
    "Est la somme de toutes les valeurs divisée par le nombre total de valeurs (longueur)"
   ]
  },
  {
   "cell_type": "code",
   "execution_count": 6,
   "id": "49c55822",
   "metadata": {},
   "outputs": [
    {
     "data": {
      "text/plain": [
       "-0.06940626102629906"
      ]
     },
     "execution_count": 6,
     "metadata": {},
     "output_type": "execute_result"
    }
   ],
   "source": [
    "# Moyenne\n",
    "np.mean(x)"
   ]
  },
  {
   "cell_type": "markdown",
   "id": "2953ccf6",
   "metadata": {},
   "source": [
    "**Variance**\n",
    "\n",
    "elle représente la variation moyenne entre chacune des valeurs ,elle est une mesure qui permet de tenir compte de la dispersion de toutes les valeurs d'un ensemble de données"
   ]
  },
  {
   "cell_type": "code",
   "execution_count": 7,
   "id": "03529459",
   "metadata": {},
   "outputs": [
    {
     "data": {
      "text/plain": [
       "96.14056359531011"
      ]
     },
     "execution_count": 7,
     "metadata": {},
     "output_type": "execute_result"
    }
   ],
   "source": [
    "# Variance\n",
    "np.var(x)"
   ]
  },
  {
   "cell_type": "markdown",
   "id": "2e49dd5b",
   "metadata": {},
   "source": [
    "**Écart-type**\n",
    "\n",
    "est la racine carrée de la variance, elle représente mieux la variation des données en termes de valeurs :"
   ]
  },
  {
   "cell_type": "code",
   "execution_count": 8,
   "id": "e53f30c5",
   "metadata": {},
   "outputs": [
    {
     "data": {
      "text/plain": [
       "9.805129453266291"
      ]
     },
     "execution_count": 8,
     "metadata": {},
     "output_type": "execute_result"
    }
   ],
   "source": [
    "# Ecart-type\n",
    "np.std(x)"
   ]
  },
  {
   "cell_type": "markdown",
   "id": "de456d5f",
   "metadata": {},
   "source": [
    "**Mode**\n",
    "\n",
    " la valeur de la variable la plus fréquente de la population étudiée.On note généralement le mode : M0."
   ]
  },
  {
   "cell_type": "code",
   "execution_count": 12,
   "id": "9bce852f",
   "metadata": {
    "scrolled": true
   },
   "outputs": [
    {
     "name": "stdout",
     "output_type": "stream",
     "text": [
      "ModeResult(mode=array([-38.01378197]), count=array([1]))\n",
      "ModeResult(mode=array([2]), count=array([4]))\n"
     ]
    },
    {
     "name": "stderr",
     "output_type": "stream",
     "text": [
      "C:\\Users\\user\\AppData\\Local\\Temp\\ipykernel_8460\\1454081790.py:3: FutureWarning: Unlike other reduction functions (e.g. `skew`, `kurtosis`), the default behavior of `mode` typically preserves the axis it acts along. In SciPy 1.11.0, this behavior will change: the default value of `keepdims` will become False, the `axis` over which the statistic is taken will be eliminated, and the value None will no longer be accepted. Set `keepdims` to True or False to avoid this warning.\n",
      "  print(stats.mode(x)) # pour le cas continue\n",
      "C:\\Users\\user\\AppData\\Local\\Temp\\ipykernel_8460\\1454081790.py:5: FutureWarning: Unlike other reduction functions (e.g. `skew`, `kurtosis`), the default behavior of `mode` typically preserves the axis it acts along. In SciPy 1.11.0, this behavior will change: the default value of `keepdims` will become False, the `axis` over which the statistic is taken will be eliminated, and the value None will no longer be accepted. Set `keepdims` to True or False to avoid this warning.\n",
      "  print(stats.mode(v))\n"
     ]
    }
   ],
   "source": [
    "# Mode\n",
    "from scipy import stats\n",
    "print(stats.mode(x)) # pour le cas continue\n",
    "v = np.array([2,1,2,3,1,2,3,4,1,5,5,3,2,3])\n",
    "print(stats.mode(v))"
   ]
  },
  {
   "cell_type": "markdown",
   "id": "3c483c33",
   "metadata": {},
   "source": [
    "**La medianne**\n",
    "\n",
    "le point milieu d'un jeu de données, de sorte que 50 % des unités ont une valeur inférieure ou égale à la médiane et 50 % des unités ont une valeur supérieure ou égale.s'il n'y a pas de milieu exact (car le nombre d'éléments est multiple de 2), ce sera la moyenne entre les 2 les plus proches du milieu."
   ]
  },
  {
   "cell_type": "code",
   "execution_count": 13,
   "id": "c682cb6e",
   "metadata": {},
   "outputs": [
    {
     "data": {
      "text/plain": [
       "0.13231990598237597"
      ]
     },
     "execution_count": 13,
     "metadata": {},
     "output_type": "execute_result"
    }
   ],
   "source": [
    "# Medianne\n",
    "np.median(x)"
   ]
  },
  {
   "cell_type": "markdown",
   "id": "f6822ca7",
   "metadata": {},
   "source": [
    "**Quantiles**\n",
    "\n",
    " le terme général pour désigner les valeurs qui divisent un jeu de données en intervalles contenant le même nombre de données."
   ]
  },
  {
   "cell_type": "code",
   "execution_count": 14,
   "id": "39c3fabd",
   "metadata": {},
   "outputs": [
    {
     "name": "stdout",
     "output_type": "stream",
     "text": [
      "0.13231990598237597\n"
     ]
    },
    {
     "data": {
      "text/plain": [
       "array([-11.84683828,  -4.06458696,   3.97491013,   7.83193589])"
      ]
     },
     "execution_count": 14,
     "metadata": {},
     "output_type": "execute_result"
    }
   ],
   "source": [
    "# Quantiles\n",
    "print(np.quantile(x, 0.5)) \n",
    "np.quantile(x, [0.12,0.33,0.66,0.79])"
   ]
  },
  {
   "cell_type": "markdown",
   "id": "46c70c3d",
   "metadata": {},
   "source": [
    "### Exercise 2\n",
    "\n",
    "Write a Python program to calculate the standard deviation of the following data\n",
    "```py\n",
    "data = [4, 2, 5, 8, 6]\n",
    "```"
   ]
  },
  {
   "cell_type": "code",
   "execution_count": 15,
   "id": "d590308e",
   "metadata": {},
   "outputs": [
    {
     "name": "stdout",
     "output_type": "stream",
     "text": [
      "Sample Data:  [4, 2, 5, 8, 6]\n",
      "Standard Deviation :  2.23606797749979\n"
     ]
    }
   ],
   "source": [
    "import math\n",
    "import sys\n",
    "\n",
    "# Définir la fonction d'écart type\n",
    "def sd_calc(data):\n",
    "   \n",
    "    n = len(data)\n",
    "\n",
    "    if n <= 1:\n",
    "        return 0.0\n",
    "\n",
    "    mean, sd = avg_calc(data), 0.0\n",
    "\n",
    "    # calculer ecart-type\n",
    "    for el in data:\n",
    "        sd += (float(el) - mean)**2\n",
    "    sd = math.sqrt(sd / float(n-1))\n",
    "\n",
    "    return sd\n",
    "\n",
    "\n",
    "\n",
    "# definir la fonction de la moyenne\n",
    "def avg_calc(ls):\n",
    "  \n",
    "    n, mean = len(ls), 0.0\n",
    "\n",
    "    if n <= 1:\n",
    "        return ls[0]\n",
    "\n",
    "    # calculer la moynne\n",
    "    for el in ls:\n",
    "        mean = mean + float(el)\n",
    "    mean = mean / float(n)\n",
    "\n",
    "    return mean\n",
    "\n",
    "\n",
    "data = [4, 2, 5, 8, 6]\n",
    "print(\"Sample Data: \", data)\n",
    "print(\"Standard Deviation : \",sd_calc(data))"
   ]
  }
 ],
 "metadata": {
  "interpreter": {
   "hash": "0f2f6c680cf484319d387fabac80ca4ff4fc33965036e02100b3fe02600f1423"
  },
  "kernelspec": {
   "display_name": "Python 3 (ipykernel)",
   "language": "python",
   "name": "python3"
  },
  "language_info": {
   "codemirror_mode": {
    "name": "ipython",
    "version": 3
   },
   "file_extension": ".py",
   "mimetype": "text/x-python",
   "name": "python",
   "nbconvert_exporter": "python",
   "pygments_lexer": "ipython3",
   "version": "3.9.13"
  }
 },
 "nbformat": 4,
 "nbformat_minor": 5
}
