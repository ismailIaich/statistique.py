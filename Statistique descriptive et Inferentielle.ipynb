{
 "cells": [
  {
   "cell_type": "markdown",
   "metadata": {},
   "source": [
    "<div id=\"toc\"> </div>"
   ]
  },
  {
   "cell_type": "markdown",
   "metadata": {},
   "source": [
    "# Introduction\n",
    "\n",
    "## Statistiques descriptives et statistiques inférentielles\n",
    "\n",
    "Les statistiques descriptives utilisent les données pour fournir des descriptions de la population, soit par des calculs numériques, soit par des graphiques ou des tableaux. Les statistiques inférentielles permettent de faire des déductions et des prédictions sur une population à partir d'un échantillon de données prélevées dans la population en question.\n",
    "\n",
    "## Pourquoi des statistiques descriptives ?\n",
    "\n",
    "Nous avons déjà rencontré les statistiques descriptives lorsque nous avons calculé des résumés statistiques pour nos ensembles de données (moyenne, moyenne, écart-type, etc.).\n",
    "\n",
    "Dans les sections suivantes, nous formaliserons notre discussion précédente en la généralisant aux variables aléatoires.\n",
    "\n",
    "## Pourquoi les statistiques inférentielles ?\n",
    "\n",
    "Maintenant que nous savons comment faire de l'ingénierie des caractéristiques, nous pouvons en générer des centaines. En fonction de la puissance de calcul et du temps dont nous disposons, ainsi que du modèle spécifique que nous utilisons, il peut souvent s'avérer crucial de sélectionner le bon ensemble de variables \n",
    "* qui ont le maximum de pouvoir prédictif et \n",
    "* ne nous exposent pas à un surajustement.\n",
    "\n",
    "Les statistiques inférentielles disposent de nombreux outils nécessaires à l'évaluation du pouvoir discriminant (prédictif) des variables. Nous allons donc faire un petit tour du côté des statistiques inférentielles afin d'apprendre à utiliser ces outils.\n",
    "\n",
    "---"
   ]
  },
  {
   "cell_type": "markdown",
   "metadata": {},
   "source": [
    "# Introduction aux statistiques descriptives\n",
    "\n",
    "## Variables aléatoires\n",
    "\n",
    "1. Soit S l'espace d'échantillonnage d'une expérience. Une fonction qui fait correspondre les résultats de S à la ligne réelle est appelée variable aléatoire.\n",
    "2. Par convention, nous utilisons les lettres majuscules à la fin de l'alphabet (X, Y, V, etc...) pour désigner les variables aléatoires.\n",
    "3. Exemple : Soit X = # de têtes en 3 lancers d'une pièce de monnaie\n",
    "\n",
    "![](./images/descriptive01.png)"
   ]
  },
  {
   "cell_type": "markdown",
   "metadata": {},
   "source": [
    "## Variable aléatoire en tant que fonction\n",
    "\n",
    "![](./images/descriptive02.png)"
   ]
  },
  {
   "cell_type": "markdown",
   "metadata": {},
   "source": [
    "## Distributions (de variables aléatoires)\n",
    "\n",
    "1. Soit X une variable aléatoire. La distribution de X est la collection de toutes les probabilités de la forme P(X ∈ C) pour tous les ensembles C de nombres réels tels que {X ∈ C} est un événement.\n",
    "    - En fait, il s'agit simplement de lister/définir toutes les probabilités pour toutes les valeurs possibles de X (les valeurs de X sont sur la ligne des réels).\n",
    "2. La définition est rédigée dans un langage spécifique afin de permettre éventuellement l'utilisation de variables aléatoires continues (c'est-à-dire des variables aléatoires qui peuvent se situer n'importe où dans un intervalle spécifique sur la ligne réelle).\n",
    "    - Parce que, dans ce cas, il est nécessaire de définir la probabilité d'événements représentés par un intervalle (ou une union d'intervalles disjoints) (la définir pour des nombres individuels ne fonctionne pas).\n",
    "    - Exemple : le temps nécessaire pour passer un examen).\n",
    "3.  Si X est une variable aléatoire, nous essayons de trouver des probabilités d'événements.\n",
    "    - Notation : La probabilité que X=2 est désignée par P(X = 2)\n",
    "    - P(X) ou P(2) est une mauvaise notation.\n",
    "\n",
    "Il s'agit toujours de probabilités, qui doivent donc respecter les axiomes nécessaires :\n",
    "1. Pour chaque {X ∈ C} , 0 ≤ P(X ∈ C) ≤ 1\n",
    "2. La somme de toutes les probabilités est égale à 1. C'est-à-dire, pour une partition de S,\n",
    "$P(X ∈ C_1) + … + P(X ∈ C_n) = 1$\n",
    "3. La probabilité d'une union d'événements disjoints s'additionne. Ainsi, si $C_1$ et $C_2$ sont disjoints, alors,\n",
    "$P(X ∈ {C_1 ∪ C_2}) = P(X ∈ C_1) + P(X ∈ C_2)$\n",
    "        \n",
    "---"
   ]
  },
  {
   "cell_type": "markdown",
   "metadata": {},
   "source": [
    "# Variables aléatoires discrètes\n",
    "\n",
    "Les variables aléatoires sont classées en deux catégories : les variables aléatoires discrètes et les variables aléatoires \n",
    "    continues. Dans cette section, nous examinerons les variables aléatoires discrètes afin de motiver certains concepts \n",
    "    mathématiques, que nous généraliserons plus tard lorsque nous parlerons des variables aléatoires continues.\n",
    "\n",
    "1. Une variable aléatoire $X$ est une variable aléatoire discrète si $X$ peut prendre\n",
    "    * seulement un nombre fini $k$ de valeurs différentes $x_1 ,..., x_k$, ou,\n",
    "    * au plus une séquence infinie de différentes valeurs $x_1, x_2, ...$ (comptablement infinie).\n",
    "2. Exemples :\n",
    "    * X = nombre de face en 3 lancers d'une pièce de monnaie.\n",
    "    * T = somme de deux dés à 6 faces équitables (T pour total)\n",
    "    * W = nombre de parties jusqu'à ce que l'équipe indienne de cricket perde son prochain match contre le Pakistan dans un\n",
    "    tournoi international ODI.\n"
   ]
  },
  {
   "cell_type": "markdown",
   "metadata": {},
   "source": [
    "# Fonction de masse de probabilité (PMF)\n",
    "\n",
    "Pour une variable aléatoire discrète X, la fonction de masse de probabilité (ou simplement fonction de probabilité) de X est\n",
    "définie comme suit la fonction f telle que pour tout nombre réel x,\n",
    "\n",
    "$f(x) = P(X=x)$\n",
    "\n",
    "### Exemple : 3 lancers d'une pièce de monnaie\n",
    "\n",
    "\n",
    "Pour X = # face dans 3 tirages d'une pièce de monnaie, le PMF ressemble à ceci :\n",
    "\n",
    "$f(x) = P(X=x)$ où\n",
    "* P(X=1) = Probabilité d'obtenir 1 face en 3 lancers de pièce\n",
    "* P(X=2) = Probabilité d'obtenir 2 têtes en 3 lancers de pièce\n",
    "* P(X=3) = Probabilité d'obtenir 3 têtes en 3 lancers de pièce\n",
    "* P(X=toutes les valeurs autres que 1, 2 et 3) = 0\n",
    "\n",
    "### Exemple : somme de deux dés à 6 faces équitables \n",
    "\n",
    "![](./images/descriptive03.png)\n"
   ]
  },
  {
   "cell_type": "markdown",
   "metadata": {},
   "source": [
    "#    ## Exemples de variables aléatoires discrètes\n",
    "\n",
    "### Distribution de Bernouli\n",
    "\n",
    "#### Motivation : Quel type d'événement probabiliste peut être modélisé avec la distribution de Bernouli ?\n",
    "\n",
    "* Jouons à pile ou face **une fois**, avec une probabilité connue $p$ d'obtenir pile ou face.\n",
    "* Soit X = # tête\n",
    "* Quelle est la distribution de X ? En d'autres termes, quelle est la fonction de masse de probabilité pour X ?\n",
    "\n",
    "Autre exemple\n",
    "* Effectuons une expérience *une fois*, qui a une probabilité p de réussir. Soit X = # succès.\n",
    "\n",
    "Autre exemple\n",
    "* Prélevons au hasard *un seul* individu dans une population et mesurons s'il possède ou non une caractéristique spécifique, \n",
    "et p est la proportion d'individus de la population possédant cette caractéristique.\n",
    "* Exemple : Un électeur indien échantillonné au hasard a-t-il voté pour le NDA lors des élections générales indiennes \n",
    "    de 2014 (p = 0,385) ?\n",
    "\n",
    "#### Définition\n",
    "\n",
    "    On dit qu'une variable aléatoire X a la distribution de Bernoulli avec le paramètre p si P(X = 1) = p et P(X = 0) = 1 - p, où 0 < p < 1. Nous écrivons cela sous la forme X ~ Bern(p). Le symbole ~ se lit \"est distribué comme\".\n",
    "\n",
    "* Toute variable aléatoire dont les résultats sont uniquement 0 et 1 a une distribution de Bern(p), où p représente la probabilité que X = 1.\n",
    "* Le nombre p est appelé paramètre de la distribution ; il détermine la distribution de Bernoulli spécifique que suit X.\n",
    "* Cela signifie qu'il n'existe pas une seule distribution, mais plutôt une famille de distributions de Bernoulli, chacune définie par ce paramètre p.\n",
    "\n",
    "### La valeur efficace de l'indicateur et les essais de Bernoulli\n",
    "\n",
    "Discutons de l'idée d'indicateurs, qui nous permettra de simplifier la façon dont nous parlons des variables aléatoires. Nous l'utiliserons immédiatement pour définir la distribution binomiale dans la section suivante.\n",
    "\n",
    "* La variable aléatoire indicatrice d'un événement A est la v.r. qui vaut 1 si A se produit et 0 sinon. Nous désignerons la v.r. indicatrice de A par $I_A$ ou I(A). Notez que $I_A$ ~ Bern(p) avec p = P(A).\n",
    "* Une expérience qui peut aboutir soit à un \"succès\", soit à un \"échec\" (mais pas les deux) est appelée essai de Bernoulli.\n",
    "    - Une variable aléatoire de Bernoulli peut être considérée comme l'indicateur de réussite d'un essai de Bernoulli\n",
    "    - Elle est égale à 1 en cas de succès et à 0 en cas d'échec.\n",
    "\n",
    "### Distribution binomiale\n",
    "\n",
    "#### Motivation : Quel type d'événement probabiliste peut être modélisé avec la distribution binomiale ?\n",
    "\n",
    "* Jouons à pile ou face **n fois**, avec une probabilité connue p d'obtenir pile à chaque fois. Supposons que le résultat de chaque pile soit indépendant l'un de l'autre.\n",
    "* Soit X = # de face.\n",
    "* Quelle est la distribution de X ? En d'autres termes, quelle est la fonction de masse de probabilité pour X ?\n",
    "\n",
    "Autre exemple\n",
    "* Supposons que nous réalisions une expérience **n fois**, où la probabilité de succès, p, pour chaque essai est fixe et où chaque essai est indépendant l'un de l'autre.\n",
    "* Soit X = # de succès.\n",
    "\n",
    "Autre exemple\n",
    "* Supposons que nous prélevions **n individus** dans une vaste population (si vaste qu'elle peut être considérée comme infinie) et que nous mesurions chaque individu en fonction d'une caractéristique spécifique.\n",
    "\n",
    "#### Définition\n",
    "\n",
    "Supposons que l'on effectue n essais de Bernoulli indépendants, chacun avec la même probabilité de succès p. Soit X le nombre de succès. La distribution de X est appelée distribution binomiale avec les paramètres n et p. Nous écrivons X ~ Bin(n, p) pour signifier que X a la distribution binomiale avec les paramètres n et p, où n est un entier positif et\n",
    "0 < p < 1.\n",
    "\n",
    "![](./images/descriptive04.png)\n",
    "\n",
    "\n",
    "Représentons graphiquement le CMR des distributions binomiales pour différents paramètres :\n",
    "\n",
    "![](./images/descriptive05.png)\n"
   ]
  },
  {
   "cell_type": "markdown",
   "metadata": {},
   "source": [
    "# Fonction de distribution cumulative (CDF)\n",
    "\n",
    "\n",
    "La fonction de distribution cumulative d'une variable aléatoire X est la fonction $F_X$ donnée par $F_{X}(x) = P(X ≤ x)$. Elle est souvent écrite sous la forme d'un F majuscule sans indice, ou F(x).\n",
    "\n",
    "### Exemple de distribution binomiale\n",
    "\n",
    "Soit X ~ Bin(n = 4, p = 0.5)\n",
    "\n",
    "![](./images/descriptive06.png)\n",
    "\n",
    "\n",
    "### PMFs vs. CDFs\n",
    "\n",
    "* PMF et CDF : ces deux fonctions contiennent les mêmes informations, et on peut toujours calculer la CDF à partir du PMF et vice versa.\n",
    "* En général, il est plus facile de travailler avec la FMP pour les valeurs efficaces discrètes (la FDC nécessite une sommation).\n",
    "\n",
    "---"
   ]
  },
  {
   "cell_type": "markdown",
   "metadata": {},
   "source": [
    "# Variables aléatoires continues\n",
    "\n",
    "## Définition\n",
    "\n",
    "    Une variable aléatoire a une distribution continue si sa FCD est différentiable. Nous autorisons également l'existence de points extrêmes (ou d'un nombre fini de points) où la FCD est continue mais non différentiable, à condition que la FCD soit différentiable partout ailleurs.\n",
    "\n",
    "* Pour une fonction de densité de probabilité (PDF) de X, la dérivée f de la fonction de densité de probabilité est donnée par f(x) = F'(x).\n",
    "\n",
    "![](./images/descriptive07.png)\n",
    "\n",
    "* Comment calculer les probabilités d'une variable aléatoire continue ?\n",
    "\n",
    "![](./images/descriptive08.png)\n",
    "\n",
    "* Traduction : pour obtenir une probabilité désirée, intégrer la PDF sur l'intervalle approprié.\n",
    "\n",
    "### Interprétation de la PDF\n",
    "\n",
    "* Notez que la PDF est la contrepartie continue de la PMF.\n",
    "* f(x) n'est pas une probabilité. par exemple, \n",
    "    - nous pourrions avoir f(3) > 1, et\n",
    "    - nous savons que P(X = 3) = 0\n",
    "* En général, nous pouvons considérer f(x)dx comme la probabilité que X se trouve dans un intervalle infiniment petit contenant x, de longueur dx.\n",
    "* f(x) est la densité de la distribution au voisinage d'une valeur spécifique x\n",
    "\n",
    "## Exemple : La distribution normale\n",
    "\n",
    "* C'est l'une des distributions les plus connues (on l'appelle aussi gaussienne).\n",
    "* Elle apparaît souvent dans les statistiques en raison du théorème de la limite centrale.\n",
    "* CLT : Sous des hypothèses très faibles, la somme (ou la moyenne) d'un grand nombre de variables aléatoires i.i.d. (indépendamment et identiquement distribuées) a une distribution approximativement normale, quelle que soit la distribution des variables aléatoires individuelles.\n",
    "* Exemple : Quelques-unes des choses qui sont régulièrement distribuées normalement.\n",
    "    - Taille des individus\n",
    "    - Résultats de tests standardisés\n",
    "    \n",
    "\n",
    "### Définition (normale standard)\n",
    "\n",
    "Nous commencerons par un cas particulier de la distribution normale, appelé la normale standard, car il nous permettra d'établir facilement certaines propriétés des v.r. normales.\n",
    "\n",
    "\n",
    "On dit qu'une v.r. continue Z a une distribution Normale standard\n",
    "standard si son PDF φ est donné par :\n",
    "\n",
    "![](./images/descriptive18.png)\n",
    "\n",
    "La FCD de la normale standard Φ est l'aire cumulée\n",
    "sous la PDF\n",
    "\n",
    "![](./images/descriptive19.png)\n",
    "\n",
    "![](./images/descriptive20.png)\n",
    "\n",
    "\n",
    "\n",
    "### Quelques propriétés de la normale standard \n",
    "\n",
    "* Symétrie de la PDF : φ(z) = φ(-z) \n",
    "* Symétrie des probabilités de queue : Φ(z) = 1 - Φ(- z)\n",
    "* E(Z) = 0.\n",
    "* Var(Z) = 1\n",
    "\n",
    "\n",
    "### Définition (Normal)\n",
    "\n",
    "![](./images/descriptive21.png)\n",
    "\n",
    "* Soit $Z ~ N(0,1)$, et soit $X = μ + σZ$. Alors $X ~ N(μ, σ^2)$.\n",
    "\n",
    "\n",
    "---"
   ]
  },
  {
   "cell_type": "markdown",
   "metadata": {},
   "source": [
    "# Résumé des variables aléatoires\n",
    "\n",
    "Supposons qu'une variable aléatoire discrète ait la distribution suivante :\n",
    "\n",
    "![](./images/descriptive09.png)\n",
    "\n",
    "Comment résumeriez-vous cette distribution ?\n",
    "* Centre ?\n",
    "* L'étendue ?\n",
    "\n",
    "Le concept d'espérance d'une variable aléatoire formalise ces idées.\n",
    "\n",
    "## Espérance\n",
    "\n",
    "La valeur attendue (ou espérance ou moyenne), E(X), d'une variable aléatoire discrète X est définie comme suit\n",
    "\n",
    "![](./images/descriptive10.png)\n",
    "\n",
    "La valeur attendue (également appelée espérance ou moyenne, μ) d'une variable aléatoire continue X avec PDF f est\n",
    "\n",
    "![](./images/descriptive11.png)\n",
    "\n",
    "Intuitivement, que mesure E(X) ?\n",
    "* C'est la moyenne pondérée théorique de X, pondérée par les probabilités.\n",
    "* C'est la mesure du \"centre\" d'une distribution, mais elle ne dit rien sur sa dispersion ou sa forme.\n",
    "\n",
    "### Exemple\n",
    "\n",
    "Soit X ~ Bern(p). Quelle est la moyenne de X ? \n",
    "\n",
    "![](./images/descriptive12.png)\n",
    "\n",
    "\n",
    "## Variance et écart-type\n",
    "\n",
    "La variance d'un r.v. X est définie comme suit\n",
    "\n",
    "![](./images/descriptive13.png)\n",
    "\n",
    "où μ = E(X). La variance s'écrit $σ^{2}_{X}$.\n",
    "\n",
    "\n",
    "La racine carrée de la variance est appelée écart-type ($σ_{X}$).\n",
    "\n",
    "![](./images/descriptive14.png)\n",
    "\n",
    "* Que mesure la variance ? Quelles sont ses unités ?\n",
    "* Qu'est-ce que l'écart-type ? Quelles sont ses unités ?\n",
    "* Lequel est le plus facile à interpréter ?\n",
    "\n",
    "### Une formule plus simple\n",
    "\n",
    "Pour tout r.v. X :\n",
    "\n",
    "![](./images/descriptive15.png)\n",
    "\n",
    "Ce résultat est souvent utile pour calculer la variance d'une variable aléatoire. Par exemple, Soit X ~ Bern(p) :\n",
    "\n",
    "![](./images/descriptive16.png)\n",
    "\n",
    "### Propriétés de la variance\n",
    "\n",
    "![](./images/descriptive17.png)\n",
    "\n",
    "---"
   ]
  },
  {
   "cell_type": "markdown",
   "metadata": {},
   "source": [
    "# Introduction à l'inférence"
   ]
  },
  {
   "cell_type": "markdown",
   "metadata": {},
   "source": [
    "# **Qu'est-ce que l'inférence ? \n",
    "\n",
    "* L'inférence statistique est le processus d'analyse des données d'un échantillon afin de mieux comprendre la population à partir de laquelle les données ont été collectées et d'étudier les différences entre les échantillons de données. \n",
    "* Dans l'analyse des données, nous nous intéressons souvent aux caractéristiques d'une grande population, mais la collecte de données sur l'ensemble de la population peut s'avérer impossible. \n",
    "\n",
    "\n",
    "\n",
    "* Par exemple, à l'approche des élections présidentielles américaines, il pourrait être très utile de connaître les tendances politiques de chaque électeur éligible, mais il n'est pas possible de sonder chaque électeur. \n",
    "* Au lieu de cela, nous pourrions interroger un sous-ensemble de la population, par exemple un millier d'électeurs inscrits, et utiliser ces données pour faire des déductions sur l'ensemble de la population."
   ]
  },
  {
   "cell_type": "markdown",
   "metadata": {},
   "source": [
    "# **Estimations ponctuelles\n",
    "\n",
    "Les estimations ponctuelles sont des estimations de paramètres de population basées sur des données d'échantillon. \n",
    "\n",
    "* Par exemple, si nous voulions connaître l'âge moyen des électeurs inscrits aux États-Unis, nous pourrions mener une enquête auprès des électeurs inscrits et utiliser l'âge moyen des personnes interrogées comme estimation ponctuelle de l'âge moyen de la population dans son ensemble.\n",
    "\n",
    "* La moyenne de l'échantillon n'est généralement pas exactement la même que la moyenne de la population. Cette différence peut être due à de nombreux facteurs, notamment une mauvaise conception de l'enquête, des méthodes d'échantillonnage biaisées et le caractère aléatoire inhérent à l'extraction d'un échantillon d'une population. \n",
    "\n",
    "* Étudions les estimations ponctuelles en générant une population de données aléatoires sur l'âge, puis en tirant un échantillon de cette population pour en estimer la moyenne :"
   ]
  },
  {
   "cell_type": "code",
   "execution_count": 20,
   "metadata": {},
   "outputs": [],
   "source": [
    "#Importation des bibliotheques necessaires\n",
    "import numpy as np #contient de différente fonctions pour mathématiques, statistiques..\n",
    "import pandas as pd #permet d'ouvrir des fichiers de différente extension (excel,cvs,text...)\n",
    "import scipy.stats as stats #bibliotheque qui contient des fonctions pour les statistiques\n",
    "import matplotlib.pyplot as plt #pour dessiner les graphes\n",
    "import random #bibliotheque de generation de nombre aléatoire\n",
    "import math #contient les fcts mathématiques\n",
    "\n",
    "%matplotlib inline"
   ]
  },
  {
   "cell_type": "code",
   "execution_count": 21,
   "metadata": {},
   "outputs": [
    {
     "data": {
      "text/plain": [
       "43.002372"
      ]
     },
     "execution_count": 21,
     "metadata": {},
     "output_type": "execute_result"
    }
   ],
   "source": [
    "np.random.seed(10)  #Génère un nombre pseudo-aléatoire\n",
    "#generation des populations aleatoire composé d'ages\n",
    "population_ages1 = stats.poisson.rvs(loc=18, mu=35, size=150000) #cette fct genere une population de Variable aléatoire discrète de Poisson de taille 150000\n",
    "population_ages2 = stats.poisson.rvs(loc=18, mu=10, size=100000) #size: taille de l'échantillon, #loc:est le point de référence à N dimensions de la distribution, #mu: est la moyenne de la fonction.\n",
    "population_ages = np.concatenate((population_ages1, population_ages2)) #concatenation des 2 population\n",
    "\n",
    "population_ages.mean() #calcule de la Moyenne de la distribution.\n",
    "#population_ages.median() ==> calcule la mediane de la population.\n",
    "#population_ages.var() ==> calcule la variance de la population\n"
   ]
  },
  {
   "cell_type": "code",
   "execution_count": 22,
   "metadata": {},
   "outputs": [
    {
     "name": "stdout",
     "output_type": "stream",
     "text": [
      "Moyenne de l'échantillon : 42.388\n",
      "La Moyenne de la population: 43.002372\n"
     ]
    }
   ],
   "source": [
    "np.random.seed(6) #Génère un nombre pseudo-aléatoire\n",
    "sample_ages = np.random.choice(a= population_ages, size=500) # échantillon aleatoire de 500 valeur de la population \"population_ages\"\n",
    "print (\"Moyenne de l'échantillon :\", sample_ages.mean() )                         #la moyenne de l'échantillon\n",
    "print(\"La Moyenne de la population:\", population_ages.mean())  # calcule la moyenne de la population\n"
   ]
  },
  {
   "cell_type": "markdown",
   "metadata": {},
   "source": [
    "* Notre estimation ponctuelle basée sur un échantillon de 500 individus sous-estime la véritable moyenne de la population de 0,6 an, mais elle est proche. \n",
    "* Cela illustre un point important : nous pouvons obtenir une estimation assez précise d'une grande population en échantillonnant un sous-ensemble relativement petit d'individus.\n",
    "\n",
    "\n",
    "* Une autre estimation ponctuelle qui peut être intéressante est la proportion de la population qui appartient à une catégorie ou à un sous-groupe. \n",
    "* Par exemple, nous pourrions souhaiter connaître la race de chaque électeur interrogé, afin d'avoir une idée des caractéristiques démographiques globales de la base électorale. \n",
    "* Vous pouvez faire une estimation ponctuelle de ce type de proportion en prélevant un échantillon et en vérifiant le ratio dans l'échantillon :"
   ]
  },
  {
   "cell_type": "code",
   "execution_count": 23,
   "metadata": {},
   "outputs": [
    {
     "name": "stdout",
     "output_type": "stream",
     "text": [
      "white  estimation de la proportion : 0.374\n",
      "other  estimation de la proportion : 0.106\n",
      "asian  estimation de la proportion : 0.113\n",
      "hispanic  estimation de la proportion : 0.189\n",
      "black  estimation de la proportion : 0.218\n"
     ]
    }
   ],
   "source": [
    "#generation d'une population repartie par les couleurs de peau\n",
    "population_races = ([\"white\"]*100000) + ([\"black\"]*50000) +\\\n",
    "                   ([\"hispanic\"]*50000) + ([\"asian\"]*25000) +\\\n",
    "                   ([\"other\"]*25000)\n",
    "    \n",
    "demo_sample = random.sample(population_races, 1000)   # Echantillon de 1000 valeurs\n",
    "\n",
    "for race in set(demo_sample):\n",
    "    print( race, \" estimation de la proportion :\", demo_sample.count(race)/1000 ) "
   ]
  },
  {
   "cell_type": "code",
   "execution_count": null,
   "metadata": {},
   "outputs": [],
   "source": [
    "### Revisiter CLT :\n",
    "\n",
    "* Comme nous l'avons vu précédemment, de nombreuses procédures statistiques supposent que les données suivent une distribution normale, parce que la distribution normale a des propriétés intéressantes comme la symétrie et le fait que la majorité des données sont regroupées à l'intérieur de quelques écarts types de la moyenne.\n",
    "\n",
    "* Cependant, les données réelles ne sont souvent pas distribuées normalement et la distribution d'un échantillon a tendance à refléter la distribution de la population. \n",
    "* Cela signifie qu'un échantillon prélevé dans une population dont la distribution est asymétrique aura également tendance à être asymétrique. Voyons cela en traçant les données et l'échantillon que nous avons créés plus tôt et en vérifiant l'asymétrie :"
   ]
  },
  {
   "cell_type": "code",
   "execution_count": 24,
   "metadata": {},
   "outputs": [
    {
     "name": "stdout",
     "output_type": "stream",
     "text": [
      "-0.12008483603917186\n"
     ]
    },
    {
     "data": {
      "image/png": "[encoded data removed]",
      "text/plain": [
       "<Figure size 648x648 with 1 Axes>"
      ]
     },
     "metadata": {
      "needs_background": "light"
     },
     "output_type": "display_data"
    }
   ],
   "source": [
    "#Histogramme de la population population age\n",
    "pd.DataFrame(population_ages).hist(bins=58,\n",
    "                                  range=(17.5,75.5),\n",
    "                                  figsize=(9,9))\n",
    "\n",
    "print( stats.skew(population_ages) )"
   ]
  },
  {
   "cell_type": "markdown",
   "metadata": {},
   "source": [
    "**Observations:**\n",
    "\n",
    "La distribution présente une faible asymétrie, mais le graphique révèle que les données ne sont clairement pas normales : au lieu d'une courbe en cloche symétrique, la distribution est bimodale avec deux pics de haute densité. \n",
    "\n",
    "\n",
    "L'échantillon que nous avons tiré de cette population devrait avoir à peu près la même forme et la même asymétrie :"
   ]
  },
  {
   "cell_type": "code",
   "execution_count": 25,
   "metadata": {},
   "outputs": [
    {
     "name": "stdout",
     "output_type": "stream",
     "text": [
      "-0.056225282585406065\n"
     ]
    },
    {
     "data": {
      "image/png": "[encoded data removed]",
      "text/plain": [
       "<Figure size 648x648 with 1 Axes>"
      ]
     },
     "metadata": {
      "needs_background": "light"
     },
     "output_type": "display_data"
    }
   ],
   "source": [
    "#Histogramme de l'échantillon aleatoire de 500 valeur de la population \"population_ages\"\n",
    "pd.DataFrame(sample_ages).hist(bins=58,\n",
    "                                  range=(17.5,75.5),\n",
    "                                  figsize=(9,9))\n",
    "\n",
    "print( stats.skew(sample_ages) ) #stats.skew ==> Calculer l'asymétrie de l'échantillon d'un ensemble de données.\n",
    "#Pour les données normalement distribuées, l'asymétrie doit être proche de zéro. \n",
    "#Pour les distributions continues unimodales, une valeur d'asymétrie supérieure à zéro"
   ]
  },
  {
   "cell_type": "markdown",
   "metadata": {},
   "source": [
    "* L'échantillon a à peu près la même forme que la population sous-jacente. \n",
    "* Cela suggère que nous ne pouvons pas appliquer les techniques qui supposent une distribution normale à cet ensemble de données, puisqu'il n'est pas normal. En réalité, nous pouvons le faire grâce au théorème de la limite centrale.\n",
    "\n",
    "\n",
    "* Pour illustrer notre propos, créons une distribution d'échantillonnage en prélevant 200 échantillons de notre population et en procédant à 200 estimations ponctuelles de la moyenne :"
   ]
  },
  {
   "cell_type": "code",
   "execution_count": 26,
   "metadata": {},
   "outputs": [
    {
     "data": {
      "text/plain": [
       "<AxesSubplot:ylabel='Density'>"
      ]
     },
     "execution_count": 26,
     "metadata": {},
     "output_type": "execute_result"
    },
    {
     "data": {
      "image/png": "[encoded data removed]",
      "text/plain": [
       "<Figure size 648x648 with 1 Axes>"
      ]
     },
     "metadata": {
      "needs_background": "light"
     },
     "output_type": "display_data"
    }
   ],
   "source": [
    "np.random.seed(10) #\n",
    "\n",
    "point_estimates = []         # Dresser une liste vide pour enregister les estimations de points\n",
    "\n",
    "for x in range(200):         # Générer 200 échantillons de la population_ages \n",
    "    sample = np.random.choice(a= population_ages, size=500) #genere 500 valeurs aleatoire de la populations, chaque échantillon contient 500 valeurs\n",
    "    point_estimates.append( sample.mean() ) #calculer et enregister la moyenne de chaque echantillon\n",
    "    \n",
    "pd.DataFrame(point_estimates).plot(kind=\"density\",  # graphe de la Densité moyenne de l'échantillon\n",
    "                                   figsize=(9,9),\n",
    "                                   xlim=(41,45))   "
   ]
  },
  {
   "cell_type": "markdown",
   "metadata": {},
   "source": [
    "La distribution d'échantillonnage semble être à peu près normale, malgré la distribution bimodale de la population dont les échantillons ont été tirés. En outre, la moyenne de la distribution d'échantillonnage se rapproche de la moyenne réelle de la population :"
   ]
  },
  {
   "cell_type": "code",
   "execution_count": 27,
   "metadata": {},
   "outputs": [
    {
     "data": {
      "text/plain": [
       "-0.08440799999999626"
      ]
     },
     "execution_count": 27,
     "metadata": {},
     "output_type": "execute_result"
    }
   ],
   "source": [
    "population_ages.mean() - np.array(point_estimates).mean() #moyenne de la population_ages - la moyenne des points d'estimations"
   ]
  },
  {
   "cell_type": "markdown",
   "metadata": {},
   "source": [
    "# Techniques inférentielles\n",
    "\n",
    "1. **Intervalles de confiance** pour l'estimation des valeurs des\n",
    "paramètres de la population\n",
    "2. **Test d'hypothèse** pour décider si la population soutient une idée/modèle/hypothèse\n",
    "si la population soutient une idée/modèle/hypothèse spécifique"
   ]
  },
  {
   "cell_type": "markdown",
   "metadata": {},
   "source": [
    "### Intervalles de confiance :\n",
    "\n",
    "* Une estimation ponctuelle peut vous donner une idée approximative d'un paramètre de population tel que la moyenne, mais les estimations sont sujettes à erreur et il n'est pas toujours possible de prélever plusieurs échantillons pour obtenir de meilleures estimations. \n",
    "* Un intervalle de confiance est une plage de valeurs au-dessus et au-dessous d'une estimation ponctuelle qui capture le véritable paramètre de la population à un niveau de confiance prédéterminé. \n",
    "* Par exemple, si vous souhaitez avoir 95 % de chances de capturer le véritable paramètre de la population avec une estimation ponctuelle et un intervalle de confiance correspondant, vous devez fixer votre niveau de confiance à 95 %. Des niveaux de confiance plus élevés se traduisent par des intervalles de confiance plus larges.\n",
    "\n",
    "* Calculer un intervalle de confiance en prenant une estimation ponctuelle, puis en ajoutant et en soustrayant une marge d'erreur pour créer une fourchette. \n",
    "* La marge d'erreur est basée sur le niveau de confiance souhaité, la dispersion des données et la taille de l'échantillon. \n",
    "* La façon dont vous calculez la marge d'erreur dépend de votre connaissance de l'écart-type de la population.\n",
    "* Si vous connaissez l'écart-type de la population, l'IC est égal à :\n",
    " \n",
    ">$Estimate \\pm margin of error$ (marge d'erreur)\n",
    " \n",
    ">$Estime \\pm (valeur z) * (SD de l'estimation)$\n",
    "\n",
    "Généralement écrit comme : (limite inférieure de confiance, limite supérieure de confiance)\n",
    " \n",
    " >$(Est. - z*×(SD de l'est.), Est. + z*×(SD de l'estimation))$\n",
    "\n",
    "Par exemple : on sait que σ est égal à 5, et on échantillonne $\\bar{x}$ pour qu'il soit égal à 18 :\n",
    "\n",
    "\n",
    "18 + 1.96×(5) = (8.2, 27.8)\n",
    "\n",
    "\n",
    "Ici, nous avons considéré 95 % d'une distribution normale entre -1,96 et 1,96."
   ]
  },
  {
   "cell_type": "code",
   "execution_count": 28,
   "metadata": {},
   "outputs": [
    {
     "name": "stdout",
     "output_type": "stream",
     "text": [
      "valeur critique:\n",
      "1.6448536269514722\n",
      "Intervalle de confiance :\n",
      "(41.834888075038016, 43.21111192496199)\n"
     ]
    }
   ],
   "source": [
    "np.random.seed(10) #Génère un nombre pseudo-aléatoire\n",
    "\n",
    "sample_size = 1000 #taille de l'échantillon\n",
    "sample = np.random.choice(a= population_ages, size = sample_size) #échantillon aleatoire de 1000 valeur de la population \"population_ages\"\n",
    "sample_mean = sample.mean() #Moyenne de l'échantillon de la population \"population_ages\"\n",
    "\n",
    "z_critical = stats.norm.ppf(q = 0.95)  # Obtenir la valeur critique\n",
    "\n",
    "print(\"valeur critique:\")              # \n",
    "print(z_critical)                        \n",
    "\n",
    "pop_stdev = population_ages.std()  # Obtenir l'écart-type de la population\n",
    "\n",
    "margin_of_error = z_critical * (pop_stdev/math.sqrt(sample_size)) #calcule de la marge d'erreur\n",
    "\n",
    "confidence_interval = (sample_mean - margin_of_error,    #calcule de l'intervalle de confiance\n",
    "                       sample_mean + margin_of_error)  \n",
    "\n",
    "print(\"Intervalle de confiance :\")\n",
    "print(confidence_interval)"
   ]
  },
  {
   "cell_type": "markdown",
   "metadata": {},
   "source": [
    "# Remarquez que l'intervalle de confiance que nous avons calculé capture la véritable moyenne de la population, à savoir 43,0023. Créons plusieurs intervalles de confiance et traçons-les pour avoir une meilleure idée de ce que signifie \"capturer\" la vraie moyenne :"
   ]
  },
  {
   "cell_type": "code",
   "execution_count": 29,
   "metadata": {},
   "outputs": [],
   "source": [
    "np.random.seed(12)\n",
    "\n",
    "sample_size = 1000 #taille de l'échantillon\n",
    "\n",
    "intervals = []\n",
    "sample_means = []\n",
    "\n",
    "for sample in range(25):\n",
    "    sample = np.random.choice(a= population_ages, size = sample_size) #echantillon de taille 1000 de la population \"population_ages\"\n",
    "    sample_mean = sample.mean() #moyenne de l'echantillon\n",
    "    sample_means.append(sample_mean)\n",
    "\n",
    "    z_critical = stats.norm.ppf(q = 0.975)  # Obtenir la valeur critique*         \n",
    "\n",
    "    pop_stdev = population_ages.std()  # Obtenir l'écart-type de la population\n",
    "\n",
    "    stats.norm.ppf(q = 0.025)\n",
    "\n",
    "    margin_of_error = z_critical * (pop_stdev/math.sqrt(sample_size)) #calcule de la marge d'erreur\n",
    "\n",
    "    confidence_interval = (sample_mean - margin_of_error, #calcule de l'intervalle de confiance\n",
    "                           sample_mean + margin_of_error)  \n",
    "    \n",
    "    intervals.append(confidence_interval)"
   ]
  },
  {
   "cell_type": "code",
   "execution_count": 30,
   "metadata": {},
   "outputs": [
    {
     "data": {
      "text/plain": [
       "<matplotlib.collections.LineCollection at 0x1db606ab4c0>"
      ]
     },
     "execution_count": 30,
     "metadata": {},
     "output_type": "execute_result"
    },
    {
     "data": {
      "image/png": "[encoded data removed]",
      "text/plain": [
       "<Figure size 648x648 with 1 Axes>"
      ]
     },
     "metadata": {
      "needs_background": "light"
     },
     "output_type": "display_data"
    }
   ],
   "source": [
    "plt.figure(figsize=(9,9))\n",
    "\n",
    "plt.errorbar(x=np.arange(0.1, 25, 1), \n",
    "             y=sample_means, \n",
    "             yerr=[(top-bot)/2 for top,bot in intervals],\n",
    "             fmt='o')\n",
    "\n",
    "plt.hlines(xmin=0, xmax=25,\n",
    "           y=43.0023, \n",
    "           linewidth=2.0,\n",
    "           color=\"red\")"
   ]
  },
  {
   "cell_type": "markdown",
   "metadata": {},
   "source": [
    "* Remarquez que dans le graphique ci-dessus, tous les intervalles de confiance à 95 %, sauf un, chevauchent la ligne rouge marquant la vraie moyenne. C'est normal : étant donné qu'un intervalle de confiance à 95 % capture la vraie moyenne dans 95 % des cas, nous nous attendons à ce que notre intervalle manque la vraie moyenne dans 5 % des cas.\n",
    "\n",
    "\n",
    "* Si vous ne connaissez pas l'écart-type de la population, vous devez utiliser l'écart-type de votre échantillon pour créer des intervalles de confiance. \n",
    "* Étant donné que l'écart-type de l'échantillon peut ne pas correspondre au paramètre de la population, l'intervalle comportera plus d'erreurs si vous ne connaissez pas l'écart-type de la population. \n",
    "* Pour tenir compte de cette erreur, nous utilisons ce que l'on appelle une valeur critique t au lieu d'une valeur critique z. La valeur critique t est tirée de l'écart-type de l'échantillon. La valeur critique t est tirée de la distribution t. \n",
    "* La distribution t est disponible dans scipy.stats avec le surnom \"t\", de sorte que nous pouvons obtenir des valeurs critiques t avec stats.t.ppf().\n",
    "\n",
    "Prenons un nouvel échantillon, plus petit, et créons un intervalle de confiance sans l'écart-type de la population, en utilisant la distribution t :"
   ]
  },
  {
   "cell_type": "code",
   "execution_count": null,
   "metadata": {},
   "outputs": [],
   "source": [
    "np.random.seed(10)\n",
    "\n",
    "sample_size = 25\n",
    "sample = np.random.choice(a= population_ages, size = sample_size)\n",
    "sample_mean = sample.mean()\n",
    "\n",
    "t_critical = stats.t.ppf(q = 0.975, df=24)  # .ppf:calcule la fonction de distribution cumulative inverse #stats.t : Variable aléatoire continue t de Student.\n",
    "#probabilité q=0.975 d'obtenir des résultats inférieurs ou égaux à x\n",
    "#L'argument df correspond aux degrés de liberté\n",
    "print(\"t-valeur critique:\")                  # Valeur critique de la variable aleatoire de student\n",
    "print(t_critical)                        \n",
    "\n",
    "sample_stdev = sample.std()    # Obtenir l'écart-type de l'échantillon\n",
    "\n",
    "sigma = sample_stdev/math.sqrt(sample_size)  # Estimation de l'écart-type\n",
    "margin_of_error = t_critical * sigma #calcule de la marge d'erreur\n",
    "\n",
    "confidence_interval = (sample_mean - margin_of_error,  #calcule de l'intervalle de confiance\n",
    "                       sample_mean + margin_of_error)  \n",
    "\n",
    "print(\"l'intervalle de confiance\")\n",
    "print(confidence_interval)"
   ]
  },
  {
   "cell_type": "markdown",
   "metadata": {},
   "source": [
    "**Note : **Lorsque vous utilisez la distribution t, vous devez fournir les degrés de liberté (df). Pour ce type de test, les degrés de liberté sont égaux à la taille de l'échantillon moins 1. Si la taille de l'échantillon est importante, la distribution t se rapproche de la distribution normale.\n",
    "\n",
    "* Remarquez que la valeur critique t est plus grande que la valeur critique z que nous avons utilisée pour l'intervalle de confiance à 95 %. \n",
    "* Cela permet à l'intervalle de confiance d'être plus large pour compenser la variabilité causée par l'utilisation de l'écart-type de l'échantillon au lieu de l'écart-type de la population. \n",
    "* Le résultat final est un intervalle de confiance beaucoup plus large (un intervalle avec une plus grande marge d'erreur).\n",
    "\n",
    "Si vous disposez d'un grand échantillon, la valeur critique t s'approchera de la valeur critique z. Il y a donc peu de différence entre l'utilisation de la distribution normale et celle de la distribution t :"
   ]
  },
  {
   "cell_type": "code",
   "execution_count": 32,
   "metadata": {},
   "outputs": [
    {
     "data": {
      "text/plain": [
       "0.0023774765933946007"
      ]
     },
     "execution_count": 32,
     "metadata": {},
     "output_type": "execute_result"
    }
   ],
   "source": [
    "# Vérifier la différence entre les valeurs critiques avec une taille d'échantillon de 1000\n",
    "#df: degrée de liberté\n",
    "stats.t.ppf(q=0.975, df= 999) - stats.norm.ppf(0.975)  #norm.ppf :Renvoie un intervalle de signification à 97 % pour un test unilatéral sur une distribution normale standard."
   ]
  },
  {
   "cell_type": "markdown",
   "metadata": {},
   "source": [
    "# Au lieu de calculer à la main un intervalle de confiance pour une estimation ponctuelle moyenne, vous pouvez le faire à l'aide de la fonction Python stats.t.interval() :"
   ]
  },
  {
   "cell_type": "code",
   "execution_count": 33,
   "metadata": {},
   "outputs": [
    {
     "data": {
      "text/plain": [
       "(37.75711273701061, 48.0028872629894)"
      ]
     },
     "execution_count": 33,
     "metadata": {},
     "output_type": "execute_result"
    }
   ],
   "source": [
    "stats.t.interval(alpha = 0.95,              # Niveau de confiance\n",
    "                 df= 24,                    # Degrés de liberté\n",
    "                 loc = sample_mean,         # Moyenne de l'échantillon\n",
    "                 scale = sigma)             # Estimation de l'écart-type"
   ]
  },
  {
   "cell_type": "markdown",
   "metadata": {},
   "source": [
    "## Notions de base sur les tests d'hypothèse\n",
    "\n",
    "[1](https://hamelg.blogspot.in/2015/11/python-for-data-analysis-part-23-point.html)\n",
    "\n",
    "* Les tests d'hypothèses statistiques sont basés sur une déclaration appelée hypothèse nulle qui suppose qu'il n'y a rien d'intéressant entre les variables que vous testez. \n",
    "* La forme exacte de l'hypothèse nulle varie d'un type de test à l'autre : si vous testez si des groupes diffèrent, l'hypothèse nulle stipule que les groupes sont identiques. \n",
    "* Par exemple, si vous voulez tester si l'âge moyen des électeurs dans votre État diffère de la moyenne nationale, l'hypothèse nulle serait qu'il n'y a pas de différence entre les âges moyens.\n",
    "\n",
    "### Pourquoi l'hypothèse nulle ?\n",
    "\n",
    "* Le but d'un test d'hypothèse est de déterminer si l'hypothèse nulle est susceptible d'être vraie compte tenu des données de l'échantillon. \n",
    "* S'il y a peu de preuves contre l'hypothèse nulle compte tenu des données, vous acceptez l'hypothèse nulle. \n",
    "* Si l'hypothèse nulle est peu probable compte tenu des données, vous pouvez rejeter l'hypothèse nulle en faveur de l'hypothèse alternative : il se passe quelque chose d'intéressant. \n",
    "* La forme exacte de l'hypothèse alternative dépend du test spécifique que vous effectuez. Pour reprendre l'exemple ci-dessus, l'hypothèse alternative serait que l'âge moyen des électeurs dans votre État diffère effectivement de la moyenne nationale.\n",
    "\n",
    "\n",
    "* Une fois que vous avez l'hypothèse nulle et l'hypothèse alternative en main, vous choisissez un niveau de signification (souvent désigné par la lettre grecque $\\alpha$). \n",
    "* Le niveau de signification est un seuil de probabilité qui détermine le moment où l'on rejette l'hypothèse nulle. \n",
    "* Après avoir effectué un test, si la probabilité d'obtenir un résultat aussi extrême que celui observé par hasard est inférieure au seuil de signification, vous rejetez l'hypothèse nulle en faveur de l'alternative. \n",
    "* Cette probabilité d'obtenir un résultat aussi extrême ou plus extrême que celui observé est appelée valeur p.\n",
    "\n",
    "\n",
    "Le test T est un test statistique utilisé pour déterminer si un échantillon de données numériques diffère significativement de la population ou si deux échantillons diffèrent l'un de l'autre.\n",
    "\n",
    "**Test T à un échantillon**\n",
    "\n",
    "Un test t à un échantillon permet de vérifier si la moyenne d'un échantillon diffère de la moyenne de la population. Créons des données fictives sur l'âge des électeurs du Minnesota et testons si l'âge moyen des électeurs du Minnesota diffère de celui de la population :"
   ]
  },
  {
   "cell_type": "code",
   "execution_count": 34,
   "metadata": {},
   "outputs": [
    {
     "name": "stdout",
     "output_type": "stream",
     "text": [
      "43.002372\n",
      "40.2\n"
     ]
    }
   ],
   "source": [
    "minnesota_ages1 = stats.poisson.rvs(loc=18, mu=30, size=30) #cette fct genere une population de Variable aléatoire discrète de Poisson de taille 30\n",
    "minnesota_ages2 = stats.poisson.rvs(loc=18, mu=10, size=20) #mu: est la moyenne de la fonction \n",
    "#loc: le point de référence à N dimensions de la distribution, ce centroïde étant choisi en fonction de la fonction\n",
    "minnesota_ages = np.concatenate((minnesota_ages1, minnesota_ages2)) #concatenation des deux populations\n",
    "\n",
    "print( population_ages.mean() ) #moyenne de la population précédente 'population_ages'\n",
    "print( minnesota_ages.mean() ) #moyenne de la population 'minnesota_ages'"
   ]
  },
  {
   "cell_type": "markdown",
   "metadata": {},
   "source": [
    "* Remarquez que nous avons utilisé une combinaison de distributions légèrement différente pour générer les données de l'échantillon pour le Minnesota, nous savons donc que les deux moyennes sont différentes. \n",
    "\n",
    "* Effectuons un test t à un niveau de confiance de 95 % et voyons s'il rejette correctement l'hypothèse nulle selon laquelle l'échantillon provient de la même distribution que la population. \n",
    "\n",
    "* Pour effectuer un test t sur un échantillon, nous pouvons utiliser la fonction stats.ttest_1samp() :"
   ]
  },
  {
   "cell_type": "code",
   "execution_count": 35,
   "metadata": {},
   "outputs": [
    {
     "data": {
      "text/plain": [
       "Ttest_1sampResult(statistic=-1.7836224743645526, pvalue=0.08067878862460907)"
      ]
     },
     "execution_count": 35,
     "metadata": {},
     "output_type": "execute_result"
    }
   ],
   "source": [
    "stats.ttest_1samp(a= minnesota_ages,               # Données de l'échantillon\n",
    "                 popmean= population_ages.mean())  # Moyenne de la population"
   ]
  },
  {
   "cell_type": "markdown",
   "metadata": {},
   "source": [
    "* Le résultat du test montre que la statistique de test \"t\" est égale à -2,574. Cette statistique de test nous indique dans quelle mesure la moyenne de l'échantillon s'écarte de l'hypothèse nulle. \n",
    "* Si la statistique t se situe en dehors des quantiles de la distribution t correspondant à notre niveau de confiance et à nos degrés de liberté, nous rejetons l'hypothèse nulle. Nous pouvons vérifier les quantiles avec stats.t.ppf() :"
   ]
  },
  {
   "cell_type": "code",
   "execution_count": 36,
   "metadata": {},
   "outputs": [
    {
     "data": {
      "text/plain": [
       "-2.0095752344892093"
      ]
     },
     "execution_count": 36,
     "metadata": {},
     "output_type": "execute_result"
    }
   ],
   "source": [
    "stats.t.ppf(q=0.025,  # Quantile à vérifier\n",
    "            df=49)  # Degrée de liberté"
   ]
  },
  {
   "cell_type": "code",
   "execution_count": 37,
   "metadata": {},
   "outputs": [
    {
     "data": {
      "text/plain": [
       "2.009575234489209"
      ]
     },
     "execution_count": 37,
     "metadata": {},
     "output_type": "execute_result"
    }
   ],
   "source": [
    "stats.t.ppf(q=0.975,  # Quantile à vérifier\n",
    "            df=49)  # Degrée de liberté"
   ]
  },
  {
   "cell_type": "markdown",
   "metadata": {},
   "source": [
    "Nous pouvons calculer les chances de voir un résultat aussi extrême que celui que nous avons observé (connu sous le nom de valeur p) en passant la statistique t comme quantile à la fonction stats.t.cdf() :"
   ]
  },
  {
   "cell_type": "code",
   "execution_count": 38,
   "metadata": {},
   "outputs": [
    {
     "data": {
      "text/plain": [
       "0.013121066545690117"
      ]
     },
     "execution_count": 38,
     "metadata": {},
     "output_type": "execute_result"
    }
   ],
   "source": [
    "stats.t.cdf(x= -2.5742,      # T-test statistique\n",
    "               df= 49) * 2   #Multiplier par deux pour les tests à deux tailles*."
   ]
  },
  {
   "cell_type": "markdown",
   "metadata": {},
   "source": [
    "**Note:** L'hypothèse alternative que nous vérifions est que la moyenne de l'échantillon diffère (n'est pas égale) à la moyenne de la population. Comme l'échantillon peut différer dans le sens positif ou négatif, nous multiplions la valeur par deux.\n",
    "\n",
    "\n",
    "* Remarquez que cette valeur est la même que la valeur p indiquée dans le résultat du test t original. Une valeur p de 0,01311 signifie que nous nous attendons à ce que des données aussi extrêmes que notre échantillon soient dues au hasard dans environ 1,3 % des cas si l'hypothèse nulle est vraie. \n",
    "* Dans ce cas, la valeur p est inférieure à notre seuil de signification α (égal à 1-conf.level ou 0,05) et nous devrions donc rejeter l'hypothèse nulle. \n",
    "* Si nous devions construire un intervalle de confiance à 90 % pour l'échantillon, il ne capturerait pas la moyenne de la population de 43 :"
   ]
  },
  {
   "cell_type": "code",
   "execution_count": 40,
   "metadata": {},
   "outputs": [
    {
     "data": {
      "text/plain": [
       "(37.59233001643662, 42.807669983563386)"
      ]
     },
     "execution_count": 40,
     "metadata": {},
     "output_type": "execute_result"
    }
   ],
   "source": [
    "sigma = minnesota_ages.std()/math.sqrt(50)  # Sample stdev/taille de l'échantillon\n",
    "\n",
    "stats.t.interval(0.90,                        # Degré de confiance\n",
    "                 df = 49,                     # Degrés de liberté\n",
    "                 loc = minnesota_ages.mean(), # Moyenne de l'échantillon\n",
    "                 scale= sigma)                # Estimation de l'écart-type"
   ]
  },
  {
   "cell_type": "markdown",
   "metadata": {},
   "source": [
    "D'autre part, étant donné qu'il y a 1,3 % de chances qu'un résultat aussi extrême soit dû au hasard, il n'est pas significatif au niveau de confiance de 99 %. Cela signifie que si nous devions construire un intervalle de confiance à 99 %, il capturerait la moyenne de la population :"
   ]
  },
  {
   "cell_type": "code",
   "execution_count": 41,
   "metadata": {},
   "outputs": [
    {
     "data": {
      "text/plain": [
       "(36.03166228192981, 44.368337718070194)"
      ]
     },
     "execution_count": 41,
     "metadata": {},
     "output_type": "execute_result"
    }
   ],
   "source": [
    "stats.t.interval(alpha = 0.99,                # Degré de confiance\n",
    "                 df = 49,                     # Degrés de liberté\n",
    "                 loc = minnesota_ages.mean(), # Moyenne de l'échantillon\n",
    "                 scale= sigma)                # Estimation de l'écart-type"
   ]
  },
  {
   "cell_type": "markdown",
   "metadata": {},
   "source": [
    "* Avec un niveau de confiance plus élevé, nous construisons un intervalle de confiance plus large et augmentons les chances qu'il capture la vraie moyenne, ce qui rend moins probable le rejet de l'hypothèse nulle. \n",
    "* Dans ce cas, la valeur p de 0,013 est supérieure à notre seuil de signification de 0,01 et nous ne rejetons pas l'hypothèse nulle."
   ]
  },
  {
   "cell_type": "markdown",
   "metadata": {},
   "source": [
    "## Test T à deux échantillons\n",
    "\n",
    "* Un test t à deux échantillons permet de déterminer si les moyennes de deux échantillons de données indépendants diffèrent l'une de l'autre. \n",
    "* Dans un test à deux échantillons, l'hypothèse nulle est que les moyennes des deux groupes sont identiques. \n",
    "* Contrairement au test à un échantillon, où nous testons un paramètre connu de la population, le test à deux échantillons ne porte que sur les moyennes des échantillons. \n",
    "* Vous pouvez effectuer un test t à deux échantillons en passant par la fonction stats.ttest_ind(). \n",
    "* Générons un échantillon de données sur l'âge des électeurs pour le Wisconsin et testons-le par rapport à l'échantillon que nous avons créé précédemment :"
   ]
  },
  {
   "cell_type": "code",
   "execution_count": 42,
   "metadata": {},
   "outputs": [
    {
     "name": "stdout",
     "output_type": "stream",
     "text": [
      "42.8\n"
     ]
    }
   ],
   "source": [
    "np.random.seed(12)\n",
    "wisconsin_ages1 = stats.poisson.rvs(loc=18, mu=33, size=30)#cette fct genere une population de Variable aléatoire discrète de Poisson de taille 30\n",
    "wisconsin_ages2 = stats.poisson.rvs(loc=18, mu=13, size=20)\n",
    "wisconsin_ages = np.concatenate((wisconsin_ages1, wisconsin_ages2)) #concatenation des deux populations\n",
    "\n",
    "print( wisconsin_ages.mean() ) #moyenne de la population"
   ]
  },
  {
   "cell_type": "code",
   "execution_count": 43,
   "metadata": {},
   "outputs": [
    {
     "data": {
      "text/plain": [
       "Ttest_indResult(statistic=-1.2055359610218797, pvalue=0.23091013046224812)"
      ]
     },
     "execution_count": 43,
     "metadata": {},
     "output_type": "execute_result"
    }
   ],
   "source": [
    "stats.ttest_ind(a= minnesota_ages,\n",
    "                b= wisconsin_ages,\n",
    "                equal_var=False)    # Supposons que les échantillons ont une variance égale."
   ]
  },
  {
   "cell_type": "markdown",
   "metadata": {},
   "source": [
    "* Le test donne une valeur p de 0,23, ce qui signifie qu'il y a 23 % de chances que les données de l'échantillon soient aussi éloignées les unes des autres si les deux groupes testés sont en fait identiques. \n",
    "* Si nous utilisions un niveau de confiance de 95 %, nous ne rejetterions pas l'hypothèse nulle, puisque la valeur p est supérieure au niveau de signification correspondant de 5 %."
   ]
  },
  {
   "cell_type": "markdown",
   "metadata": {},
   "source": [
    "## Test T par paires\n",
    "\n",
    "* Le test t de base à deux échantillons est conçu pour tester les différences entre des groupes indépendants. \n",
    "* Dans certains cas, il peut être intéressant de tester les différences entre des échantillons d'un même groupe à différents moments. \n",
    "* Par exemple, un hôpital peut vouloir tester l'efficacité d'un médicament amaigrissant en vérifiant le poids des patients d'un même groupe avant et après le traitement. \n",
    "* Un test t par paires permet de vérifier si les moyennes des échantillons d'un même groupe sont différentes.\n",
    "* Nous pouvons effectuer un test t apparié à l'aide de la fonction scipy stats.ttest_rel(). Générons des données fictives sur le poids des patients et effectuons un test t apparié :"
   ]
  },
  {
   "cell_type": "code",
   "execution_count": 44,
   "metadata": {},
   "outputs": [
    {
     "data": {
      "text/html": [
       "<div>\n",
       "<style scoped>\n",
       "    .dataframe tbody tr th:only-of-type {\n",
       "        vertical-align: middle;\n",
       "    }\n",
       "\n",
       "    .dataframe tbody tr th {\n",
       "        vertical-align: top;\n",
       "    }\n",
       "\n",
       "    .dataframe thead th {\n",
       "        text-align: right;\n",
       "    }\n",
       "</style>\n",
       "<table border=\"1\" class=\"dataframe\">\n",
       "  <thead>\n",
       "    <tr style=\"text-align: right;\">\n",
       "      <th></th>\n",
       "      <th>weight_before</th>\n",
       "      <th>weight_after</th>\n",
       "      <th>weight_change</th>\n",
       "    </tr>\n",
       "  </thead>\n",
       "  <tbody>\n",
       "    <tr>\n",
       "      <th>count</th>\n",
       "      <td>100.000000</td>\n",
       "      <td>100.000000</td>\n",
       "      <td>100.000000</td>\n",
       "    </tr>\n",
       "    <tr>\n",
       "      <th>mean</th>\n",
       "      <td>250.345546</td>\n",
       "      <td>249.115171</td>\n",
       "      <td>-1.230375</td>\n",
       "    </tr>\n",
       "    <tr>\n",
       "      <th>std</th>\n",
       "      <td>28.132539</td>\n",
       "      <td>28.422183</td>\n",
       "      <td>4.783696</td>\n",
       "    </tr>\n",
       "    <tr>\n",
       "      <th>min</th>\n",
       "      <td>170.400443</td>\n",
       "      <td>165.913930</td>\n",
       "      <td>-11.495286</td>\n",
       "    </tr>\n",
       "    <tr>\n",
       "      <th>25%</th>\n",
       "      <td>230.421042</td>\n",
       "      <td>229.148236</td>\n",
       "      <td>-4.046211</td>\n",
       "    </tr>\n",
       "    <tr>\n",
       "      <th>50%</th>\n",
       "      <td>250.830805</td>\n",
       "      <td>251.134089</td>\n",
       "      <td>-1.413463</td>\n",
       "    </tr>\n",
       "    <tr>\n",
       "      <th>75%</th>\n",
       "      <td>270.637145</td>\n",
       "      <td>268.927258</td>\n",
       "      <td>1.738673</td>\n",
       "    </tr>\n",
       "    <tr>\n",
       "      <th>max</th>\n",
       "      <td>314.700233</td>\n",
       "      <td>316.720357</td>\n",
       "      <td>9.759282</td>\n",
       "    </tr>\n",
       "  </tbody>\n",
       "</table>\n",
       "</div>"
      ],
      "text/plain": [
       "       weight_before  weight_after  weight_change\n",
       "count     100.000000    100.000000     100.000000\n",
       "mean      250.345546    249.115171      -1.230375\n",
       "std        28.132539     28.422183       4.783696\n",
       "min       170.400443    165.913930     -11.495286\n",
       "25%       230.421042    229.148236      -4.046211\n",
       "50%       250.830805    251.134089      -1.413463\n",
       "75%       270.637145    268.927258       1.738673\n",
       "max       314.700233    316.720357       9.759282"
      ]
     },
     "execution_count": 44,
     "metadata": {},
     "output_type": "execute_result"
    }
   ],
   "source": [
    "np.random.seed(11)\n",
    "\n",
    "before= stats.norm.rvs(scale=30, loc=250, size=100)\n",
    "\n",
    "after = before + stats.norm.rvs(scale=5, loc=-1.25, size=100)\n",
    "\n",
    "weight_df = pd.DataFrame({\"weight_before\":before,\n",
    "                          \"weight_after\":after,\n",
    "                          \"weight_change\":after-before})\n",
    "                          \n",
    "weight_df.describe()             # Vérifier un résumé des données\n",
    "#mean: moyenne "
   ]
  },
  {
   "cell_type": "markdown",
   "metadata": {},
   "source": [
    "* Le résumé montre que les patients ont perdu environ 1,23 livres en moyenne après le traitement. Effectuons un test t par paires pour vérifier si cette différence est significative à un niveau de confiance de 95 % :"
   ]
  },
  {
   "cell_type": "code",
   "execution_count": 32,
   "metadata": {},
   "outputs": [
    {
     "data": {
      "text/plain": [
       "Ttest_relResult(statistic=2.5720175998568284, pvalue=0.011596444318439857)"
      ]
     },
     "execution_count": 32,
     "metadata": {},
     "output_type": "execute_result"
    }
   ],
   "source": [
    "stats.ttest_rel(a = before,\n",
    "                b = after)"
   ]
  },
  {
   "cell_type": "markdown",
   "metadata": {},
   "source": [
    "* La valeur p dans le résultat du test montre que la probabilité de voir une différence aussi importante entre les échantillons due au hasard est légèrement supérieure à 1 %."
   ]
  },
  {
   "cell_type": "markdown",
   "metadata": {},
   "source": [
    "## Erreur de type I et de type II\n",
    "\n",
    "* Le résultat d'un test d'hypothèse statistique et la décision correspondante de rejeter ou d'accepter l'hypothèse nulle ne sont pas infaillibles. \n",
    "* Un test fournit des preuves pour ou contre l'hypothèse nulle et vous décidez ensuite de l'accepter ou de la rejeter sur la base de ces preuves, mais celles-ci peuvent ne pas être suffisamment solides pour aboutir à la bonne conclusion. \n",
    "* Les conclusions erronées tirées des tests d'hypothèse peuvent être classées dans l'une des deux catégories suivantes : **erreur de type I** et **erreur de type II**.\n",
    "\n",
    "\n",
    "L'erreur de type I décrit une situation dans laquelle vous rejetez l'hypothèse nulle alors qu'elle est vraie. \n",
    "\n",
    "* Ce type d'erreur est également appelé \"faux positif\" ou \"faux résultat\". \n",
    "* Le taux d'erreur de type 1 est égal au seuil de signification α, de sorte que la fixation d'un niveau de confiance plus élevé (et donc d'un alpha plus faible) réduit les risques d'obtenir un faux positif.\n",
    "\n",
    "\n",
    "L'erreur de type II décrit une situation dans laquelle vous ne parvenez pas à rejeter l'hypothèse nulle alors qu'elle est en fait fausse. \n",
    "\n",
    "* L'erreur de type II est également connue sous le nom de \"faux négatif\" ou \"raté\". Plus votre niveau de confiance est élevé, plus vous risquez de commettre une erreur de type II.\n",
    "Étudions ces erreurs à l'aide d'un graphique :\n",
    "\n",
    "![](images/3.png)"
   ]
  },
  {
   "cell_type": "markdown",
   "metadata": {},
   "source": [
    "* Dans le graphique ci-dessus, les zones rouges indiquent les erreurs de type I en supposant que l'hypothèse alternative n'est pas différente de l'hypothèse nulle pour un test bilatéral avec un niveau de confiance de 95 %.\n",
    "\n",
    "\n",
    "Il est parfois difficile de se souvenir de quelle erreur il s'agit. Les infographies suivantes vous aideront à vous en souvenir !\n",
    "\n",
    "![](images/4.png)\n",
    "\n",
    "* La zone bleue représente les erreurs de type II qui se produisent lorsque l'hypothèse alternative est différente de l'hypothèse nulle, comme le montre la distribution à droite. \n",
    "* Notez que le taux d'erreur de type II est l'aire sous la distribution alternative à l'intérieur des quantiles déterminés par la distribution nulle et le niveau de confiance. \n",
    "* Nous pouvons calculer le taux d'erreur de type II pour les distributions ci-dessus comme suit :"
   ]
  },
  {
   "cell_type": "code",
   "execution_count": 45,
   "metadata": {},
   "outputs": [
    {
     "data": {
      "text/plain": [
       "0.294956061112323"
      ]
     },
     "execution_count": 45,
     "metadata": {},
     "output_type": "execute_result"
    }
   ],
   "source": [
    "lower_quantile = stats.norm.ppf(0.025)  # Valeur seuil inférieure\n",
    "upper_quantile = stats.norm.ppf(0.975)  # Valeur seuil supérieur\n",
    "\n",
    "# Zone sous l'alternative, à gauche la valeur limite inférieure\n",
    "low = stats.norm.cdf(lower_quantile,    \n",
    "                     loc=3,             \n",
    "                     scale=2)\n",
    "\n",
    "# Zone sous l'alternative, à gauche la valeur limite supérieure\n",
    "high = stats.norm.cdf(upper_quantile, \n",
    "                      loc=3, \n",
    "                      scale=2)          \n",
    "\n",
    "# Surface sous l'alternative, entre les seuils (erreur de type II)\n",
    "high-low"
   ]
  },
  {
   "cell_type": "markdown",
   "metadata": {},
   "source": [
    "Avec les distributions normales ci-dessus, nous ne parviendrions pas à rejeter l'hypothèse nulle dans environ 30 % des cas, car les distributions sont suffisamment proches les unes des autres pour se chevaucher de manière significative."
   ]
  },
  {
   "cell_type": "markdown",
   "metadata": {},
   "source": [
    "## Test d'adéquation du chi 2\n",
    "\n",
    "Dans notre étude des tests t, nous avons présenté le test t à sens unique pour vérifier si la moyenne d'un échantillon diffère de la moyenne attendue (population). \n",
    "Le test d'adéquation du chi carré est un **analogue du test t à sens unique pour les variables catégorielles:** \n",
    "il permet de vérifier si la distribution des données catégorielles de l'échantillon correspond à une distribution attendue. \n",
    "\n",
    "* Par exemple, vous pouvez utiliser un test d'adéquation du chi-carré pour vérifier si les données démographiques raciales des membres de votre église ou de votre école correspondent à celles de l'ensemble de la population américaine ou si les préférences de vos amis en matière de navigateur correspondent à celles de l'ensemble des utilisateurs d'Internet.\n",
    "\n",
    "Lorsque l'on travaille avec des données catégorielles, les valeurs des observations elles-mêmes ne sont pas d'une grande utilité pour les tests statistiques, car les catégories telles que \"homme\", \"femme\" et \"autre\" n'ont pas de signification mathématique. \n",
    "\n",
    "Les tests portant sur des variables catégorielles sont basés sur le nombre de variables plutôt que sur la valeur réelle des variables elles-mêmes.\n",
    "\n",
    "Générons de fausses données démographiques pour les États-Unis et le Minnesota et effectuons le test d'ajustement du chi-carré pour vérifier si elles sont différentes :"
   ]
  },
  {
   "cell_type": "code",
   "execution_count": 46,
   "metadata": {},
   "outputs": [
    {
     "name": "stdout",
     "output_type": "stream",
     "text": [
      "Nationale\n",
      "col_0      count\n",
      "0               \n",
      "asian      15000\n",
      "black      50000\n",
      "hispanic   60000\n",
      "other      35000\n",
      "white     100000\n",
      " \n",
      "Minnesota\n",
      "col_0     count\n",
      "0              \n",
      "asian        75\n",
      "black       250\n",
      "hispanic    300\n",
      "other       150\n",
      "white       600\n"
     ]
    }
   ],
   "source": [
    "national = pd.DataFrame([\"white\"]*100000 + [\"hispanic\"]*60000 +\\\n",
    "                        [\"black\"]*50000 + [\"asian\"]*15000 + [\"other\"]*35000)          \n",
    "\n",
    "minnesota = pd.DataFrame([\"white\"]*600 + [\"hispanic\"]*300 + \\\n",
    "                         [\"black\"]*250 +[\"asian\"]*75 + [\"other\"]*150)\n",
    "\n",
    "national_table = pd.crosstab(index=national[0], columns=\"count\")\n",
    "minnesota_table = pd.crosstab(index=minnesota[0], columns=\"count\")\n",
    "\n",
    "print( \"Nationale\")\n",
    "print(national_table)\n",
    "print(\" \")\n",
    "print( \"Minnesota\")\n",
    "print(minnesota_table)"
   ]
  },
  {
   "cell_type": "markdown",
   "metadata": {},
   "source": [
    "Les tests du khi-deux sont basés sur la statistique dite du khi-deux. Vous calculez la statistique du khi-deux à l'aide de la formule suivante :\n",
    "\n",
    ">$sum((observé-attendu)^2/attendu)$.\n",
    "\n",
    "\n",
    "Dans la formule, observé est le nombre réel observé pour chaque catégorie et attendu est le nombre attendu sur la base de la distribution de la population pour la catégorie correspondante. \n",
    "\n",
    "Calculons la statistique du chi-deux pour nos données afin d'illustrer notre propos :"
   ]
  },
  {
   "cell_type": "code",
   "execution_count": 57,
   "metadata": {},
   "outputs": [
    {
     "name": "stdout",
     "output_type": "stream",
     "text": [
      "col_0\n",
      "count    18.194805\n",
      "dtype: float64\n"
     ]
    }
   ],
   "source": [
    "observed = minnesota_table\n",
    "\n",
    "national_ratios = national_table/len(national)  # Obtenir des ratios de population #len calcule la taille\n",
    "\n",
    "expected = national_ratios * len(minnesota)   # Obtenir les comptages attendus\n",
    "\n",
    "chi_squared_stat = (((observed-expected)**2)/expected).sum() #test de chi2\n",
    "\n",
    "print(chi_squared_stat)"
   ]
  },
  {
   "cell_type": "markdown",
   "metadata": {},
   "source": [
    "**Note:** Le test du chi-deux suppose qu'aucun des nombres attendus n'est inférieur à 5.\n",
    "\n",
    "Comme dans le cas du test t, où l'on compare la statistique du test t à une valeur critique basée sur la distribution t pour déterminer si le résultat est significatif, dans le cas du test du chi-deux, on compare la statistique du test du chi-deux à une valeur critique basée sur la distribution du chi-deux. \n",
    "\n",
    "L'abréviation de la bibliothèque scipy pour la distribution du chi-deux est chi2. \n",
    "\n",
    "Utilisons ces connaissances pour trouver la valeur critique pour un niveau de confiance de 95 % et vérifier la valeur p de notre résultat :"
   ]
  },
  {
   "cell_type": "code",
   "execution_count": 71,
   "metadata": {},
   "outputs": [
    {
     "name": "stdout",
     "output_type": "stream",
     "text": [
      "Valeur critique\n",
      "9.487729036781154\n",
      "P value\n",
      "0.001130467092803511\n"
     ]
    }
   ],
   "source": [
    "crit = stats.chi2.ppf(q = 0.95, # Trouver la valeur critique pour un niveau de confiance de 95%*\n",
    "                      df = 4)   # Df = nombre de catégories de variables - 1\n",
    "\n",
    "print(\"Valeur critique\")\n",
    "print(crit)\n",
    "\n",
    "p_value = 1 - stats.chi2.cdf(x=chi_squared_stat,  # Trouver la valeur p\n",
    "                             df=4)\n",
    "print(\"P value\")\n",
    "print(p_value)"
   ]
  },
  {
   "cell_type": "markdown",
   "metadata": {},
   "source": [
    "**Note:** nous ne nous intéressons qu'à la queue droite de la distribution du khi-deux. Pour en savoir plus [ici] (https://en.wikipedia.org/wiki/Chi-squared_distribution).\n",
    "\n",
    "Comme notre statistique du khi-deux dépasse la valeur critique, nous rejetons l'hypothèse nulle selon laquelle les deux distributions sont identiques.\n",
    "\n",
    "Vous pouvez effectuer un test d'adéquation du chi-deux automatiquement à l'aide de la fonction scipy scipy.stats.chisquare() :"
   ]
  },
  {
   "cell_type": "code",
   "execution_count": 72,
   "metadata": {},
   "outputs": [
    {
     "data": {
      "text/plain": [
       "Power_divergenceResult(statistic=array([18.19480519]), pvalue=array([0.00113047]))"
      ]
     },
     "execution_count": 72,
     "metadata": {},
     "output_type": "execute_result"
    }
   ],
   "source": [
    "stats.chisquare(f_obs= observed,   # Tableau des effectifs observés\n",
    "                f_exp= expected)   # Tableau des effectifs attendus"
   ]
  },
  {
   "cell_type": "code",
   "execution_count": null,
   "metadata": {},
   "outputs": [],
   "source": [
    "Les résultats du test sont en accord avec les valeurs que nous avons calculées ci-dessus."
   ]
  },
  {
   "cell_type": "markdown",
   "metadata": {},
   "source": [
    "## Test d'indépendance du chi 2\n",
    "\n",
    "L'indépendance est un concept clé en probabilités qui décrit une situation dans laquelle la connaissance de la valeur d'une variable ne vous apprend rien sur la valeur d'une autre variable. \n",
    "\n",
    "Par exemple, le mois de votre naissance ne vous dit probablement rien sur le navigateur web que vous utilisez, de sorte que nous nous attendons à ce que le mois de naissance et la préférence pour le navigateur soient indépendants. \n",
    "\n",
    "En revanche, votre mois de naissance peut être lié à vos performances sportives à l'école, de sorte que le mois de naissance et les performances sportives peuvent ne pas être indépendants.\n",
    "\n",
    "Le test d'indépendance du chi carré permet de vérifier si deux variables catégorielles sont indépendantes. \n",
    "\n",
    "Le test d'indépendance est couramment utilisé pour déterminer si des variables telles que l'éducation, les opinions politiques et d'autres préférences varient en fonction de facteurs démographiques tels que le sexe, la race et la religion. \n",
    "\n",
    "Générons de fausses données de sondages électoraux et effectuons un test d'indépendance :"
   ]
  },
  {
   "cell_type": "code",
   "execution_count": 73,
   "metadata": {},
   "outputs": [],
   "source": [
    "import pandas as pd"
   ]
  },
  {
   "cell_type": "code",
   "execution_count": 75,
   "metadata": {},
   "outputs": [
    {
     "data": {
      "text/html": [
       "<div>\n",
       "<style scoped>\n",
       "    .dataframe tbody tr th:only-of-type {\n",
       "        vertical-align: middle;\n",
       "    }\n",
       "\n",
       "    .dataframe tbody tr th {\n",
       "        vertical-align: top;\n",
       "    }\n",
       "\n",
       "    .dataframe thead th {\n",
       "        text-align: right;\n",
       "    }\n",
       "</style>\n",
       "<table border=\"1\" class=\"dataframe\">\n",
       "  <thead>\n",
       "    <tr style=\"text-align: right;\">\n",
       "      <th></th>\n",
       "      <th>democrat</th>\n",
       "      <th>independent</th>\n",
       "      <th>republican</th>\n",
       "      <th>row_totals</th>\n",
       "    </tr>\n",
       "  </thead>\n",
       "  <tbody>\n",
       "    <tr>\n",
       "      <th>asian</th>\n",
       "      <td>21</td>\n",
       "      <td>7</td>\n",
       "      <td>32</td>\n",
       "      <td>60</td>\n",
       "    </tr>\n",
       "    <tr>\n",
       "      <th>black</th>\n",
       "      <td>65</td>\n",
       "      <td>25</td>\n",
       "      <td>64</td>\n",
       "      <td>154</td>\n",
       "    </tr>\n",
       "    <tr>\n",
       "      <th>hispanic</th>\n",
       "      <td>107</td>\n",
       "      <td>50</td>\n",
       "      <td>94</td>\n",
       "      <td>251</td>\n",
       "    </tr>\n",
       "    <tr>\n",
       "      <th>other</th>\n",
       "      <td>15</td>\n",
       "      <td>8</td>\n",
       "      <td>15</td>\n",
       "      <td>38</td>\n",
       "    </tr>\n",
       "    <tr>\n",
       "      <th>white</th>\n",
       "      <td>189</td>\n",
       "      <td>96</td>\n",
       "      <td>212</td>\n",
       "      <td>497</td>\n",
       "    </tr>\n",
       "    <tr>\n",
       "      <th>col_totals</th>\n",
       "      <td>397</td>\n",
       "      <td>186</td>\n",
       "      <td>417</td>\n",
       "      <td>1000</td>\n",
       "    </tr>\n",
       "  </tbody>\n",
       "</table>\n",
       "</div>"
      ],
      "text/plain": [
       "            democrat  independent  republican  row_totals\n",
       "asian             21            7          32          60\n",
       "black             65           25          64         154\n",
       "hispanic         107           50          94         251\n",
       "other             15            8          15          38\n",
       "white            189           96         212         497\n",
       "col_totals       397          186         417        1000"
      ]
     },
     "execution_count": 75,
     "metadata": {},
     "output_type": "execute_result"
    }
   ],
   "source": [
    "np.random.seed(10)\n",
    "\n",
    "# Échantillonner des données de manière aléatoire avec des probabilités fixes\n",
    "voter_race = np.random.choice(a= [\"asian\",\"black\",\"hispanic\",\"other\",\"white\"],\n",
    "                              p = [0.05, 0.15 ,0.25, 0.05, 0.5],\n",
    "                              size=1000)\n",
    "\n",
    "# Échantillonner des données de manière aléatoire avec des probabilités fixes\n",
    "voter_party = np.random.choice(a= [\"democrat\",\"independent\",\"republican\"],\n",
    "                              p = [0.4, 0.2, 0.4],\n",
    "                              size=1000)\n",
    "\n",
    "voters = pd.DataFrame({\"race\":voter_race, \n",
    "                       \"party\":voter_party})\n",
    "\n",
    "voter_tab = pd.crosstab(voters.race, voters.party, margins = True)\n",
    "\n",
    "voter_tab.columns = [\"democrat\",\"independent\",\"republican\",\"row_totals\"]\n",
    "\n",
    "voter_tab.index = [\"asian\",\"black\",\"hispanic\",\"other\",\"white\",\"col_totals\"]\n",
    "\n",
    "#observed = voter_tab.ix[0:5,0:3]   # Obtenir un tableau sans les totaux pour une utilisation ultérieure\n",
    "voter_tab"
   ]
  },
  {
   "cell_type": "markdown",
   "metadata": {},
   "source": [
    "Il convient de noter que nous n'avons pas utilisé les données relatives à la race pour générer les données relatives aux partis, de sorte que les variables sont indépendantes.\n",
    "\n",
    "Pour un test d'indépendance, nous utilisons la même formule du chi-carré que celle utilisée pour le test d'adéquation. \n",
    "\n",
    "La principale différence réside dans le fait que nous devons calculer le nombre attendu de chaque cellule dans un tableau bidimensionnel au lieu d'un tableau unidimensionnel. \n",
    "\n",
    "Pour obtenir le nombre attendu d'une cellule, multipliez le total des lignes de cette cellule par le total des colonnes de cette cellule, puis divisez par le nombre total d'observations. \n",
    "\n",
    "Nous pouvons rapidement obtenir les nombres attendus pour toutes les cellules du tableau en prenant les totaux des lignes et des colonnes du tableau, en effectuant un produit extérieur sur ceux-ci avec la fonction np.outer() et en divisant par le nombre d'observations :"
   ]
  },
  {
   "cell_type": "code",
   "execution_count": 46,
   "metadata": {},
   "outputs": [
    {
     "data": {
      "text/html": [
       "<div>\n",
       "<table border=\"1\" class=\"dataframe\">\n",
       "  <thead>\n",
       "    <tr style=\"text-align: right;\">\n",
       "      <th></th>\n",
       "      <th>democrat</th>\n",
       "      <th>independent</th>\n",
       "      <th>republican</th>\n",
       "    </tr>\n",
       "  </thead>\n",
       "  <tbody>\n",
       "    <tr>\n",
       "      <th>asian</th>\n",
       "      <td>23.820</td>\n",
       "      <td>11.160</td>\n",
       "      <td>25.020</td>\n",
       "    </tr>\n",
       "    <tr>\n",
       "      <th>black</th>\n",
       "      <td>61.138</td>\n",
       "      <td>28.644</td>\n",
       "      <td>64.218</td>\n",
       "    </tr>\n",
       "    <tr>\n",
       "      <th>hispanic</th>\n",
       "      <td>99.647</td>\n",
       "      <td>46.686</td>\n",
       "      <td>104.667</td>\n",
       "    </tr>\n",
       "    <tr>\n",
       "      <th>other</th>\n",
       "      <td>15.086</td>\n",
       "      <td>7.068</td>\n",
       "      <td>15.846</td>\n",
       "    </tr>\n",
       "    <tr>\n",
       "      <th>white</th>\n",
       "      <td>197.309</td>\n",
       "      <td>92.442</td>\n",
       "      <td>207.249</td>\n",
       "    </tr>\n",
       "  </tbody>\n",
       "</table>\n",
       "</div>"
      ],
      "text/plain": [
       "          democrat  independent  republican\n",
       "asian       23.820       11.160      25.020\n",
       "black       61.138       28.644      64.218\n",
       "hispanic    99.647       46.686     104.667\n",
       "other       15.086        7.068      15.846\n",
       "white      197.309       92.442     207.249"
      ]
     },
     "execution_count": 46,
     "metadata": {},
     "output_type": "execute_result"
    }
   ],
   "source": [
    "expected =  np.outer(voter_tab[\"row_totals\"][0:5],\n",
    "                     voter_tab.ix[\"col_totals\"][0:3]) / 1000\n",
    "\n",
    "expected = pd.DataFrame(expected)\n",
    "\n",
    "expected.columns = [\"democrat\",\"independent\",\"republican\"]\n",
    "expected.index = [\"asian\",\"black\",\"hispanic\",\"other\",\"white\"]\n",
    "\n",
    "expected"
   ]
  },
  {
   "cell_type": "markdown",
   "metadata": {},
   "source": [
    "Nous pouvons maintenant suivre les mêmes étapes que précédemment pour calculer la statistique du chi-carré, la valeur critique et la valeur p :"
   ]
  },
  {
   "cell_type": "code",
   "execution_count": 65,
   "metadata": {},
   "outputs": [
    {
     "name": "stdout",
     "output_type": "stream",
     "text": [
      "18.194805194805177\n"
     ]
    }
   ],
   "source": [
    "chi_squared_stat = (((observed-expected)**2)/expected).sum().sum()\n",
    "\n",
    "print(chi_squared_stat)"
   ]
  },
  {
   "cell_type": "markdown",
   "metadata": {},
   "source": [
    "*Remarque : nous appelons .sum() deux fois : une première fois pour obtenir les sommes des colonnes et une seconde fois pour additionner les sommes des colonnes, ce qui renvoie la somme de l'ensemble du tableau 2D.\n"
   ]
  },
  {
   "cell_type": "code",
   "execution_count": 48,
   "metadata": {},
   "outputs": [
    {
     "name": "stdout",
     "output_type": "stream",
     "text": [
      "Critical value\n",
      "15.5073130559\n",
      "P value\n",
      "0.518479392949\n"
     ]
    }
   ],
   "source": [
    "crit = stats.chi2.ppf(q = 0.95, # Trouver la valeur critique pour un niveau de confiance de 95%*\n",
    "                      df = 8)   # *\n",
    "\n",
    "print(\"Critical value\")\n",
    "print(crit)\n",
    "\n",
    "p_value = 1 - stats.chi2.cdf(x=chi_squared_stat,  # Trouver la p-value\n",
    "                             df=8)\n",
    "print(\"P value\")\n",
    "print(p_value)"
   ]
  },
  {
   "cell_type": "markdown",
   "metadata": {},
   "source": [
    "**Note:** Les degrés de liberté pour un test d'indépendance sont égaux au produit du nombre de catégories de chaque variable moins 1. \n",
    "\n",
    "Dans ce cas, nous avons un tableau de 5x3, donc df = 4x2 = 8.\n",
    "\n",
    "Comme pour le test d'adéquation, nous pouvons utiliser scipy pour effectuer rapidement un test d'indépendance. Utilisez la fonction stats.chi2_contingency() pour effectuer automatiquement un test d'indépendance à partir d'un tableau de fréquences des effectifs observés :"
   ]
  },
  {
   "cell_type": "code",
   "execution_count": 49,
   "metadata": {},
   "outputs": [
    {
     "data": {
      "text/plain": [
       "(7.1693212801620589,\n",
       " 0.51847939294884204,\n",
       " 8,\n",
       " array([[  23.82 ,   11.16 ,   25.02 ],\n",
       "        [  61.138,   28.644,   64.218],\n",
       "        [  99.647,   46.686,  104.667],\n",
       "        [  15.086,    7.068,   15.846],\n",
       "        [ 197.309,   92.442,  207.249]]))"
      ]
     },
     "execution_count": 49,
     "metadata": {},
     "output_type": "execute_result"
    }
   ],
   "source": [
    "stats.chi2_contingency(observed= observed)"
   ]
  },
  {
   "cell_type": "markdown",
   "metadata": {},
   "source": [
    "La sortie indique la statistique du chi-carré, la valeur p et les degrés de liberté, suivis des nombres attendus.\n",
    "\n",
    "Comme prévu, compte tenu de la valeur p élevée, le résultat du test ne détecte pas de relation significative entre les variables.\n",
    "\n",
    "Ainsi, les tests du Khi-deux permettent d'étudier les différences dans les distributions des variables catégorielles ayant les mêmes catégories et la dépendance entre les variables catégorielles.\n",
    "\n",
    "---"
   ]
  },
  {
   "cell_type": "markdown",
   "metadata": {},
   "source": [
    "## Un exemple avec Titanic\n",
    "\n",
    "Voyons maintenant une expérience pratique de ces tests avec le jeu de données Titanic."
   ]
  },
  {
   "cell_type": "code",
   "execution_count": 81,
   "metadata": {},
   "outputs": [],
   "source": [
    "import pandas as pd\n",
    "import matplotlib.pyplot as plt\n",
    "%matplotlib inline\n",
    "import seaborn as sns; sns.set_style('darkgrid')\n",
    "import numpy as np\n",
    "import scipy.stats as sp"
   ]
  },
  {
   "cell_type": "code",
   "execution_count": 82,
   "metadata": {},
   "outputs": [
    {
     "data": {
      "text/html": [
       "<div>\n",
       "<style scoped>\n",
       "    .dataframe tbody tr th:only-of-type {\n",
       "        vertical-align: middle;\n",
       "    }\n",
       "\n",
       "    .dataframe tbody tr th {\n",
       "        vertical-align: top;\n",
       "    }\n",
       "\n",
       "    .dataframe thead th {\n",
       "        text-align: right;\n",
       "    }\n",
       "</style>\n",
       "<table border=\"1\" class=\"dataframe\">\n",
       "  <thead>\n",
       "    <tr style=\"text-align: right;\">\n",
       "      <th></th>\n",
       "      <th>PassengerId</th>\n",
       "      <th>Survived</th>\n",
       "      <th>Pclass</th>\n",
       "      <th>Name</th>\n",
       "      <th>Sex</th>\n",
       "      <th>Age</th>\n",
       "      <th>SibSp</th>\n",
       "      <th>Parch</th>\n",
       "      <th>Ticket</th>\n",
       "      <th>Fare</th>\n",
       "      <th>Cabin</th>\n",
       "      <th>Embarked</th>\n",
       "    </tr>\n",
       "  </thead>\n",
       "  <tbody>\n",
       "    <tr>\n",
       "      <th>0</th>\n",
       "      <td>1</td>\n",
       "      <td>0</td>\n",
       "      <td>3</td>\n",
       "      <td>Braund, Mr. Owen Harris</td>\n",
       "      <td>male</td>\n",
       "      <td>22.0</td>\n",
       "      <td>1</td>\n",
       "      <td>0</td>\n",
       "      <td>A/5 21171</td>\n",
       "      <td>7.2500</td>\n",
       "      <td>NaN</td>\n",
       "      <td>S</td>\n",
       "    </tr>\n",
       "    <tr>\n",
       "      <th>1</th>\n",
       "      <td>2</td>\n",
       "      <td>1</td>\n",
       "      <td>1</td>\n",
       "      <td>Cumings, Mrs. John Bradley (Florence Briggs Th...</td>\n",
       "      <td>female</td>\n",
       "      <td>38.0</td>\n",
       "      <td>1</td>\n",
       "      <td>0</td>\n",
       "      <td>PC 17599</td>\n",
       "      <td>71.2833</td>\n",
       "      <td>C85</td>\n",
       "      <td>C</td>\n",
       "    </tr>\n",
       "    <tr>\n",
       "      <th>2</th>\n",
       "      <td>3</td>\n",
       "      <td>1</td>\n",
       "      <td>3</td>\n",
       "      <td>Heikkinen, Miss. Laina</td>\n",
       "      <td>female</td>\n",
       "      <td>26.0</td>\n",
       "      <td>0</td>\n",
       "      <td>0</td>\n",
       "      <td>STON/O2. 3101282</td>\n",
       "      <td>7.9250</td>\n",
       "      <td>NaN</td>\n",
       "      <td>S</td>\n",
       "    </tr>\n",
       "    <tr>\n",
       "      <th>3</th>\n",
       "      <td>4</td>\n",
       "      <td>1</td>\n",
       "      <td>1</td>\n",
       "      <td>Futrelle, Mrs. Jacques Heath (Lily May Peel)</td>\n",
       "      <td>female</td>\n",
       "      <td>35.0</td>\n",
       "      <td>1</td>\n",
       "      <td>0</td>\n",
       "      <td>113803</td>\n",
       "      <td>53.1000</td>\n",
       "      <td>C123</td>\n",
       "      <td>S</td>\n",
       "    </tr>\n",
       "    <tr>\n",
       "      <th>4</th>\n",
       "      <td>5</td>\n",
       "      <td>0</td>\n",
       "      <td>3</td>\n",
       "      <td>Allen, Mr. William Henry</td>\n",
       "      <td>male</td>\n",
       "      <td>35.0</td>\n",
       "      <td>0</td>\n",
       "      <td>0</td>\n",
       "      <td>373450</td>\n",
       "      <td>8.0500</td>\n",
       "      <td>NaN</td>\n",
       "      <td>S</td>\n",
       "    </tr>\n",
       "  </tbody>\n",
       "</table>\n",
       "</div>"
      ],
      "text/plain": [
       "   PassengerId  Survived  Pclass  \\\n",
       "0            1         0       3   \n",
       "1            2         1       1   \n",
       "2            3         1       3   \n",
       "3            4         1       1   \n",
       "4            5         0       3   \n",
       "\n",
       "                                                Name     Sex   Age  SibSp  \\\n",
       "0                            Braund, Mr. Owen Harris    male  22.0      1   \n",
       "1  Cumings, Mrs. John Bradley (Florence Briggs Th...  female  38.0      1   \n",
       "2                             Heikkinen, Miss. Laina  female  26.0      0   \n",
       "3       Futrelle, Mrs. Jacques Heath (Lily May Peel)  female  35.0      1   \n",
       "4                           Allen, Mr. William Henry    male  35.0      0   \n",
       "\n",
       "   Parch            Ticket     Fare Cabin Embarked  \n",
       "0      0         A/5 21171   7.2500   NaN        S  \n",
       "1      0          PC 17599  71.2833   C85        C  \n",
       "2      0  STON/O2. 3101282   7.9250   NaN        S  \n",
       "3      0            113803  53.1000  C123        S  \n",
       "4      0            373450   8.0500   NaN        S  "
      ]
     },
     "execution_count": 82,
     "metadata": {},
     "output_type": "execute_result"
    }
   ],
   "source": [
    "df = pd.read_csv('data/titanic_train.csv') #affiche echantillon \n",
    "df.head()"
   ]
  },
  {
   "cell_type": "markdown",
   "metadata": {},
   "source": [
    "Nous savons donc que chaque personne représente une observation dans cet ensemble de données. Voyons la distribution de l'âge dans cet ensemble de données."
   ]
  },
  {
   "cell_type": "markdown",
   "metadata": {},
   "source": [
    "### Un test du chi carré :\n",
    "\n",
    "Le taux de survie des femmes et des enfants est-il plus élevé que celui des personnes qui n'ont pas survécu ?\n",
    "\n",
    "Pour ce faire, créons un tableau de fréquence pour les femmes et les enfants. Les enfants sont décrits comme des passagers de moins de 12 ans. Le sexe est déjà décrit dans la colonne Sexe.\n",
    "\n",
    "Effectuons ensuite un test du chi-deux."
   ]
  },
  {
   "cell_type": "code",
   "execution_count": 83,
   "metadata": {},
   "outputs": [],
   "source": [
    "df['WomenChildren'] = np.where((df.Age <= 12) | (df.Sex == 'female'),1,0)"
   ]
  },
  {
   "cell_type": "code",
   "execution_count": 98,
   "metadata": {},
   "outputs": [],
   "source": [
    "def compute_freq_chi2(x,y):\n",
    "#\"\"\" \n",
    "  #Cette fonction calcule le tableau des fréquences de x et y  \n",
    "#de la série Pandas, et l'utilise pour alimenter la table de contiguïté.\n",
    "    \n",
    "    #Paramètres :\n",
    "    #-------\n",
    "    #x,y : Séries de Pandas, doivent être de même forme pour la table de fréquence\n",
    "    \n",
    "    #Retourner :\n",
    "    #-------\n",
    "    #Aucun. Mais imprime le tableau des fréquences, la statistique du test chi2 et la \n",
    "    #valeur p\n",
    "    #\"\"\"\n",
    "    freqtab = pd.crosstab(x,y)\n",
    "    print(\"Tableau des fréquences\")\n",
    "    print(\"============================\")\n",
    "    print(freqtab)\n",
    "    print(\"============================\")\n",
    "    chi2,pval,dof,expected = sp.chi2_contingency(freqtab)\n",
    "    print(\"ChiSquare test statistique: \",chi2)\n",
    "    print(\"p-value: \",pval)\n",
    "    return"
   ]
  },
  {
   "cell_type": "code",
   "execution_count": 99,
   "metadata": {},
   "outputs": [
    {
     "name": "stdout",
     "output_type": "stream",
     "text": [
      "Tableau des fréquences\n",
      "============================\n",
      "WomenChildren    0    1\n",
      "Survived               \n",
      "0              452   97\n",
      "1               88  254\n",
      "============================\n",
      "ChiSquare test statistique:  280.3930489646247\n",
      "p-value:  6.1651574254838e-63\n"
     ]
    }
   ],
   "source": [
    "compute_freq_chi2(df.Survived,df.WomenChildren)"
   ]
  },
  {
   "cell_type": "markdown",
   "metadata": {},
   "source": [
    "Le tableau des fréquences permet de constater une différence d'ampleur entre les femmes et les enfants qui ont survécu et ceux qui n'ont pas survécu. \n",
    "\n",
    "* Les femmes et les enfants qui ont survécu sont environ 2,5 fois plus nombreux que les femmes et les enfants qui n'ont pas survécu. En revanche, la différence entre les hommes adultes qui n'ont pas survécu et ceux qui ont survécu est environ 5 fois plus élevée. \n",
    "\n",
    "Soumettons cette question à un test statistique.\n",
    "\n",
    "Étant donné que les variables indépendantes et dépendantes sont toutes deux catégoriques, nous choisissons le test d'indépendance du chi carré. \n",
    "\n",
    "Pour que ce test soit vrai, validons les conditions suivantes,\n",
    "\n",
    "* Chaque cellule a au moins 5 cas attendus. Vérifié.\n",
    "\n",
    "Puisque nous avons vérifié toutes les conditions, nous pouvons procéder au test. \n",
    "\n",
    "* Comme prévu, la statistique du chi-deux fournit un nombre très élevé, et la valeur p est pratiquement nulle. \n",
    "* Ainsi, les données fournissent des preuves convaincantes que la femme passagère ou les enfants et qu'ils ont survécu sont liés.\n",
    "\n",
    "Vérifions l'exactitude de ce modèle si nous le considérons comme un modèle prédictif."
   ]
  },
  {
   "cell_type": "code",
   "execution_count": 100,
   "metadata": {},
   "outputs": [
    {
     "data": {
      "text/plain": [
       "0.792368125701459"
      ]
     },
     "execution_count": 100,
     "metadata": {},
     "output_type": "execute_result"
    }
   ],
   "source": [
    "(df['WomenChildren']  == df.Survived).mean() #moyenne des femmes et enfants qui ont survecue"
   ]
  },
  {
   "cell_type": "markdown",
   "metadata": {},
   "source": [
    "Nous avons obtenu une précision de 79,24 % !"
   ]
  },
  {
   "cell_type": "markdown",
   "metadata": {},
   "source": [
    "## ANOVA à un facteur\n",
    "\n",
    "L'ANOVA à un facteur permet de vérifier si la moyenne d'une variable numérique diffère selon les niveaux d'une variable catégorielle. \n",
    "\n",
    "Elle répond essentiellement à la question suivante : les moyennes des groupes diffèrent-elles les unes des autres ? \n",
    "\n",
    "Nous n'entrerons pas dans les détails de l'exécution manuelle d'une ANOVA, car elle implique davantage de calculs que le test t, mais le processus est similaire : vous effectuez plusieurs calculs pour parvenir à une statistique de test, puis vous comparez cette statistique à une valeur critique basée sur une distribution de probabilités. \n",
    "\n",
    "Dans le cas de l'ANOVA, vous utilisez la \"distribution f\".\n",
    "\n",
    "La bibliothèque scipy dispose d'une fonction permettant d'effectuer des tests ANOVA à sens unique, appelée scipy.stats.f_oneway(). \n",
    "\n",
    "Générons de fausses données démographiques et d'âge des électeurs et utilisons l'ANOVA pour comparer les âges moyens des différents groupes :"
   ]
  },
  {
   "cell_type": "code",
   "execution_count": 101,
   "metadata": {},
   "outputs": [],
   "source": [
    "import numpy as np\n",
    "import pandas as pd\n",
    "import matplotlib.pyplot as plt\n",
    "import scipy.stats as stats"
   ]
  },
  {
   "cell_type": "code",
   "execution_count": 104,
   "metadata": {},
   "outputs": [
    {
     "data": {
      "text/plain": [
       "F_onewayResult(statistic=1.7744689357329695, pvalue=0.13173183201930463)"
      ]
     },
     "execution_count": 104,
     "metadata": {},
     "output_type": "execute_result"
    }
   ],
   "source": [
    "np.random.seed(12)\n",
    "\n",
    "races =   [\"asian\",\"black\",\"hispanic\",\"other\",\"white\"]\n",
    "\n",
    "# Générer des données aléatoires\n",
    "voter_race = np.random.choice(a= races,\n",
    "                              p = [0.05, 0.15 ,0.25, 0.05, 0.5],\n",
    "                              size=1000)\n",
    "\n",
    "voter_age = stats.poisson.rvs(loc=18,\n",
    "                              mu=30,\n",
    "                              size=1000)\n",
    "\n",
    "# Données sur l'âge du groupe par race\n",
    "voter_frame = pd.DataFrame({\"race\":voter_race,\"age\":voter_age})\n",
    "groups = voter_frame.groupby(\"race\").groups\n",
    "\n",
    "# Estracter des groupes d'individuels particuliers\n",
    "asian = voter_age[groups[\"asian\"]]\n",
    "black = voter_age[groups[\"black\"]]\n",
    "hispanic = voter_age[groups[\"hispanic\"]]\n",
    "other = voter_age[groups[\"other\"]]\n",
    "white = voter_age[groups[\"white\"]]\n",
    "\n",
    "# Effectuer l'analyse de la variance (ANOVA)\n",
    "stats.f_oneway(asian, black, hispanic, other, white)"
   ]
  },
  {
   "cell_type": "markdown",
   "metadata": {},
   "source": [
    "Le résultat du test donne une statistique F de 1,774 et une valeur p de 0,1317, indiquant qu'il n'y a pas de différence significative entre les moyennes de chaque groupe.\n",
    "\n",
    "Maintenant, créons de nouvelles données d'âge pour lesquelles les moyennes des groupes diffèrent et effectuons une seconde ANOVA :"
   ]
  },
  {
   "cell_type": "code",
   "execution_count": 105,
   "metadata": {},
   "outputs": [
    {
     "data": {
      "text/plain": [
       "F_onewayResult(statistic=10.164699828386366, pvalue=4.5613242113994585e-08)"
      ]
     },
     "execution_count": 105,
     "metadata": {},
     "output_type": "execute_result"
    }
   ],
   "source": [
    "np.random.seed(12)\n",
    "\n",
    "# Générer des données aléatoires\n",
    "voter_race = np.random.choice(a= races,\n",
    "                              p = [0.05, 0.15 ,0.25, 0.05, 0.5],\n",
    "                              size=1000)\n",
    "\n",
    "# Utiliser une distribution différente pour les âges des gens blancs\n",
    "white_ages = stats.poisson.rvs(loc=18, \n",
    "                              mu=32,\n",
    "                              size=1000)\n",
    "\n",
    "voter_age = stats.poisson.rvs(loc=18,\n",
    "                              mu=30,\n",
    "                              size=1000)\n",
    "\n",
    "voter_age = np.where(voter_race==\"white\", white_ages, voter_age)\n",
    "\n",
    "# Données sur l'âge du groupe par race\n",
    "voter_frame = pd.DataFrame({\"race\":voter_race,\"age\":voter_age})\n",
    "groups = voter_frame.groupby(\"race\").groups   \n",
    "\n",
    "#Etracter des groupes d'individuels particuliers\n",
    "asian = voter_age[groups[\"asian\"]]\n",
    "black = voter_age[groups[\"black\"]]\n",
    "hispanic = voter_age[groups[\"hispanic\"]]\n",
    "other = voter_age[groups[\"other\"]]\n",
    "white = voter_age[groups[\"white\"]]\n",
    "\n",
    "# Effectuer l'analyse de la variance (ANOVA)\n",
    "stats.f_oneway(asian, black, hispanic, other, white)"
   ]
  },
  {
   "cell_type": "markdown",
   "metadata": {},
   "source": [
    "Le résultat du test suggère que les groupes n'ont pas les mêmes moyennes d'échantillon dans ce cas, puisque la valeur p est significative à un niveau de confiance de 99 %. \n",
    "\n",
    "Nous savons que ce sont les électeurs blancs qui diffèrent parce que nous l'avons configuré ainsi dans le code, mais lorsque vous testez des données réelles, il se peut que vous ne sachiez pas quel(s) groupe(s) est/sont à l'origine du résultat positif du test. \n",
    "\n",
    "Pour vérifier quels groupes diffèrent après avoir obtenu un résultat ANOVA positif, vous pouvez effectuer un test de suivi ou \"test post-hoc\".\n",
    "\n",
    "L'un de ces tests consiste à effectuer un test t distinct pour chaque paire de groupes. Vous pouvez effectuer un test t entre toutes les paires en utilisant la fonction stats.ttest_ind() que nous avons abordée dans la leçon sur les tests t :"
   ]
  },
  {
   "cell_type": "code",
   "execution_count": 106,
   "metadata": {},
   "outputs": [
    {
     "name": "stdout",
     "output_type": "stream",
     "text": [
      "asian black\n",
      "Ttest_indResult(statistic=0.838644690974798, pvalue=0.4027281369339345)\n",
      "asian hispanic\n",
      "Ttest_indResult(statistic=-0.42594691924932293, pvalue=0.6704669004240726)\n",
      "asian other\n",
      "Ttest_indResult(statistic=0.9795284739636, pvalue=0.3298877500095151)\n",
      "asian white\n",
      "Ttest_indResult(statistic=-2.318108811252288, pvalue=0.020804701566400217)\n",
      "black hispanic\n",
      "Ttest_indResult(statistic=-1.9527839210712925, pvalue=0.05156197171952594)\n",
      "black other\n",
      "Ttest_indResult(statistic=0.28025754367057176, pvalue=0.7795770111117659)\n",
      "black white\n",
      "Ttest_indResult(statistic=-5.379303881281835, pvalue=1.039421216662395e-07)\n",
      "hispanic other\n",
      "Ttest_indResult(statistic=1.5853626170340225, pvalue=0.11396630528484335)\n",
      "hispanic white\n",
      "Ttest_indResult(statistic=-3.5160312714115376, pvalue=0.0004641298649066684)\n",
      "other white\n",
      "Ttest_indResult(statistic=-3.763809322077872, pvalue=0.00018490576317593065)\n"
     ]
    }
   ],
   "source": [
    "# Obtenir toutes les paires des différentes races\n",
    "race_pairs = []\n",
    "\n",
    "for race1 in range(4):\n",
    "    for race2  in range(race1+1,5):\n",
    "        race_pairs.append((races[race1], races[race2]))\n",
    "\n",
    "# Effectuer un t-test sur chaque paire\n",
    "for race1, race2 in race_pairs: \n",
    "    print(race1, race2)\n",
    "    print(stats.ttest_ind(voter_age[groups[race1]], \n",
    "                          voter_age[groups[race2]]))    "
   ]
  },
  {
   "cell_type": "markdown",
   "metadata": {},
   "source": [
    "Les valeurs p pour chaque test t par paire suggèrent que la moyenne des électeurs blancs est probablement différente des autres groupes, puisque les valeurs p pour chaque test t impliquant le groupe blanc sont inférieures à 0,05. \n",
    "\n",
    "L'utilisation de tests t par paire non ajustés peut toutefois entraîner une surestimation de la signification, car plus vous effectuez de comparaisons, plus vous risquez de tomber sur un résultat improbable dû au hasard. \n",
    "\n",
    "Nous pouvons corriger ce problème de comparaison multiple en divisant le niveau de signification statistique par le nombre de comparaisons effectuées. \n",
    "\n",
    "Dans ce cas, si nous recherchons un niveau de signification de 5 %, nous devrons rechercher des valeurs p de 0,05/10 = 0,005 ou moins. Ce simple ajustement pour les comparaisons multiples est connu sous le nom de correction de Bonferroni.\n",
    "\n",
    "La correction de Bonferroni est une approche prudente pour tenir compte du problème des comparaisons multiples qui peut aboutir au rejet de résultats qui sont en fait significatifs. \n",
    "\n",
    "Un autre test post hoc courant est le test de Tukey. Vous pouvez effectuer le test de Tukey à l'aide de la fonction pairwise_tukeyhsd() de la bibliothèque statsmodels.stats.multicomp :"
   ]
  },
  {
   "cell_type": "code",
   "execution_count": 107,
   "metadata": {},
   "outputs": [
    {
     "name": "stderr",
     "output_type": "stream",
     "text": [
      "C:\\Users\\lina\\anaconda3\\lib\\site-packages\\statsmodels\\sandbox\\stats\\multicomp.py:775: UserWarning: FixedFormatter should only be used together with FixedLocator\n",
      "  ax1.set_yticklabels(np.insert(self.groupsunique.astype(str), 0, ''))\n"
     ]
    },
    {
     "data": {
      "text/html": [
       "<table class=\"simpletable\">\n",
       "<caption>Multiple Comparison of Means - Tukey HSD, FWER=0.05</caption>\n",
       "<tr>\n",
       "   <th>group1</th>   <th>group2</th>  <th>meandiff</th>  <th>p-adj</th>  <th>lower</th>   <th>upper</th> <th>reject</th>\n",
       "</tr>\n",
       "<tr>\n",
       "    <td>asian</td>    <td>black</td>   <td>-0.8032</td>   <td>0.9</td>  <td>-3.4423</td>  <td>1.836</td>  <td>False</td>\n",
       "</tr>\n",
       "<tr>\n",
       "    <td>asian</td>  <td>hispanic</td>  <td>0.4143</td>    <td>0.9</td>  <td>-2.1011</td> <td>2.9297</td>  <td>False</td>\n",
       "</tr>\n",
       "<tr>\n",
       "    <td>asian</td>    <td>other</td>   <td>-1.0645</td> <td>0.8852</td> <td>-4.2391</td>  <td>2.11</td>   <td>False</td>\n",
       "</tr>\n",
       "<tr>\n",
       "    <td>asian</td>    <td>white</td>   <td>1.9547</td>   <td>0.175</td> <td>-0.4575</td> <td>4.3668</td>  <td>False</td>\n",
       "</tr>\n",
       "<tr>\n",
       "    <td>black</td>  <td>hispanic</td>  <td>1.2175</td>  <td>0.2318</td> <td>-0.386</td>   <td>2.821</td>  <td>False</td>\n",
       "</tr>\n",
       "<tr>\n",
       "    <td>black</td>    <td>other</td>   <td>-0.2614</td>   <td>0.9</td>  <td>-2.7757</td>  <td>2.253</td>  <td>False</td>\n",
       "</tr>\n",
       "<tr>\n",
       "    <td>black</td>    <td>white</td>   <td>2.7579</td>   <td>0.001</td> <td>1.3217</td>   <td>4.194</td>  <td>True</td> \n",
       "</tr>\n",
       "<tr>\n",
       "  <td>hispanic</td>   <td>other</td>   <td>-1.4789</td> <td>0.4391</td> <td>-3.863</td>  <td>0.9053</td>  <td>False</td>\n",
       "</tr>\n",
       "<tr>\n",
       "  <td>hispanic</td>   <td>white</td>   <td>1.5404</td>   <td>0.004</td> <td>0.3468</td>   <td>2.734</td>  <td>True</td> \n",
       "</tr>\n",
       "<tr>\n",
       "    <td>other</td>    <td>white</td>   <td>3.0192</td>  <td>0.0028</td> <td>0.7443</td>  <td>5.2941</td>  <td>True</td> \n",
       "</tr>\n",
       "</table>"
      ],
      "text/plain": [
       "<class 'statsmodels.iolib.table.SimpleTable'>"
      ]
     },
     "execution_count": 107,
     "metadata": {},
     "output_type": "execute_result"
    },
    {
     "data": {
      "image/png": "[encoded data removed]",
      "text/plain": [
       "<Figure size 720x432 with 1 Axes>"
      ]
     },
     "metadata": {},
     "output_type": "display_data"
    }
   ],
   "source": [
    "from statsmodels.stats.multicomp import pairwise_tukeyhsd\n",
    "\n",
    "tukey = pairwise_tukeyhsd(endog=voter_age,     # Données\n",
    "                          groups=voter_race,   # Groupes\n",
    "                          alpha=0.05)          # Niveau de signification\n",
    "\n",
    "tukey.plot_simultaneous()    # Tracer les intervalles de confiance des groupes\n",
    "plt.vlines(x=49.57,ymin=-0.5,ymax=4.5, color=\"red\")\n",
    "\n",
    "tukey.summary()              # Voir le résumé du test"
   ]
  },
  {
   "cell_type": "markdown",
   "metadata": {},
   "source": [
    "Le résultat du test de Tukey indique la différence moyenne, un intervalle de confiance ainsi que le rejet ou non de l'hypothèse nulle pour chaque paire de groupes au niveau de signification donné. \n",
    "\n",
    "Dans ce cas, le test suggère de rejeter l'hypothèse nulle pour 3 paires, chaque paire incluant la catégorie \"blanc\". Cela suggère que le groupe blanc est probablement différent des autres. \n",
    "\n",
    "Le tracé de l'intervalle de confiance à 95 % renforce visuellement les résultats : l'intervalle de confiance d'un seul autre groupe chevauche l'intervalle de confiance du groupe blanc.\n",
    "\n",
    "Le test ANOVA nous permet de vérifier si une variable de réponse numérique varie en fonction des niveaux d'une variable catégorielle. \n",
    "\n",
    "La bibliothèque Python scipy permet d'effectuer facilement une ANOVA sans trop se plonger dans les détails de la procédure."
   ]
  },
  {
   "cell_type": "code",
   "execution_count": null,
   "metadata": {},
   "outputs": [],
   "source": []
  }
 ],
 "metadata": {
  "anaconda-cloud": {},
  "kernelspec": {
   "display_name": "Python 3",
   "language": "python",
   "name": "python3"
  },
  "language_info": {
   "codemirror_mode": {
    "name": "ipython",
    "version": 3
   },
   "file_extension": ".py",
   "mimetype": "text/x-python",
   "name": "python",
   "nbconvert_exporter": "python",
   "pygments_lexer": "ipython3",
   "version": "3.8.8"
  }
 },
 "nbformat": 4,
 "nbformat_minor": 2
}
