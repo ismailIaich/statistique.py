{
 "cells": [
  {
   "cell_type": "markdown",
   "metadata": {},
   "source": [
    "# Petit projet sur les statistiques descriptives en utilisant Python et Pandas\n",
    "\n",
    "Cette étude utilise l'ensemble de données Wine qui peut être téléchargé depuis Kaggle à l'URL suivante:\n",
    "\n",
    "https://www.kaggle.com/zynicide/wine-reviews\n",
    "\n",
    "L'étude couvre les sujets suivants :\n",
    "- Mesures de tendance centrale (moyenne, médiane et mode)\n",
    "- Mesures de dispersion (étendue, écart-type et variance)\n",
    "- La connexion entre l'écart-type et les distributions normales\n",
    "- Distributions uniformes ou aléatoires\n",
    "- Valeurs aberrantes\n",
    "- Visualisations de données (histogrammes et boxplots)"
   ]
  },
  {
   "cell_type": "code",
   "execution_count": 1,
   "metadata": {},
   "outputs": [],
   "source": [
    "# Importation des bibliothèques requises\n",
    "import pandas as pd\n",
    "import pylab\n",
    "import random\n",
    "import numpy as np\n",
    "import matplotlib.pyplot as plt\n",
    "import warnings\n",
    "from scipy import stats"
   ]
  },
  {
   "cell_type": "code",
   "execution_count": 2,
   "metadata": {},
   "outputs": [],
   "source": [
    "# Définir les paramètres pylab par défaut pour afficher les graphiques en ligne et définir la taille de graphique par défaut\n",
    "%matplotlib inline\n",
    "pylab.rcParams['figure.figsize'] = (13.0, 5.0)\n",
    "warnings.filterwarnings('ignore')"
   ]
  },
  {
   "cell_type": "markdown",
   "metadata": {},
   "source": [
    "#### Charger les données dans un dataframe en utilisant la fonction read_csv et afficher les premières lignes en utilisant la fonction head."
   ]
  },
  {
   "cell_type": "code",
   "execution_count": 3,
   "metadata": {},
   "outputs": [
    {
     "data": {
      "text/html": [
       "<div>\n",
       "<style scoped>\n",
       "    .dataframe tbody tr th:only-of-type {\n",
       "        vertical-align: middle;\n",
       "    }\n",
       "\n",
       "    .dataframe tbody tr th {\n",
       "        vertical-align: top;\n",
       "    }\n",
       "\n",
       "    .dataframe thead th {\n",
       "        text-align: right;\n",
       "    }\n",
       "</style>\n",
       "<table border=\"1\" class=\"dataframe\">\n",
       "  <thead>\n",
       "    <tr style=\"text-align: right;\">\n",
       "      <th></th>\n",
       "      <th>country</th>\n",
       "      <th>designation</th>\n",
       "      <th>points</th>\n",
       "      <th>price</th>\n",
       "      <th>province</th>\n",
       "      <th>region_1</th>\n",
       "      <th>taster_name</th>\n",
       "      <th>title</th>\n",
       "      <th>variety</th>\n",
       "      <th>winery</th>\n",
       "    </tr>\n",
       "  </thead>\n",
       "  <tbody>\n",
       "    <tr>\n",
       "      <th>0</th>\n",
       "      <td>US</td>\n",
       "      <td>Reserve Late Harvest</td>\n",
       "      <td>87</td>\n",
       "      <td>13.0</td>\n",
       "      <td>Michigan</td>\n",
       "      <td>Lake Michigan Shore</td>\n",
       "      <td>Alexander Peartree</td>\n",
       "      <td>St. Julian 2013 Reserve Late Harvest Riesling ...</td>\n",
       "      <td>Riesling</td>\n",
       "      <td>St. Julian</td>\n",
       "    </tr>\n",
       "    <tr>\n",
       "      <th>1</th>\n",
       "      <td>US</td>\n",
       "      <td>Vintner's Reserve Wild Child Block</td>\n",
       "      <td>87</td>\n",
       "      <td>65.0</td>\n",
       "      <td>Oregon</td>\n",
       "      <td>Willamette Valley</td>\n",
       "      <td>Paul Gregutt</td>\n",
       "      <td>Sweet Cheeks 2012 Vintner's Reserve Wild Child...</td>\n",
       "      <td>Pinot Noir</td>\n",
       "      <td>Sweet Cheeks</td>\n",
       "    </tr>\n",
       "    <tr>\n",
       "      <th>2</th>\n",
       "      <td>Spain</td>\n",
       "      <td>Ars In Vitro</td>\n",
       "      <td>87</td>\n",
       "      <td>15.0</td>\n",
       "      <td>Northern Spain</td>\n",
       "      <td>Navarra</td>\n",
       "      <td>Michael Schachner</td>\n",
       "      <td>Tandem 2011 Ars In Vitro Tempranillo-Merlot (N...</td>\n",
       "      <td>Tempranillo-Merlot</td>\n",
       "      <td>Tandem</td>\n",
       "    </tr>\n",
       "    <tr>\n",
       "      <th>3</th>\n",
       "      <td>Italy</td>\n",
       "      <td>Belsito</td>\n",
       "      <td>87</td>\n",
       "      <td>16.0</td>\n",
       "      <td>Sicily &amp; Sardinia</td>\n",
       "      <td>Vittoria</td>\n",
       "      <td>Kerin O’Keefe</td>\n",
       "      <td>Terre di Giurfo 2013 Belsito Frappato (Vittoria)</td>\n",
       "      <td>Frappato</td>\n",
       "      <td>Terre di Giurfo</td>\n",
       "    </tr>\n",
       "    <tr>\n",
       "      <th>4</th>\n",
       "      <td>France</td>\n",
       "      <td>Les Natures</td>\n",
       "      <td>87</td>\n",
       "      <td>27.0</td>\n",
       "      <td>Alsace</td>\n",
       "      <td>Alsace</td>\n",
       "      <td>Roger Voss</td>\n",
       "      <td>Jean-Baptiste Adam 2012 Les Natures Pinot Gris...</td>\n",
       "      <td>Pinot Gris</td>\n",
       "      <td>Jean-Baptiste Adam</td>\n",
       "    </tr>\n",
       "    <tr>\n",
       "      <th>5</th>\n",
       "      <td>US</td>\n",
       "      <td>Mountain Cuvée</td>\n",
       "      <td>87</td>\n",
       "      <td>19.0</td>\n",
       "      <td>California</td>\n",
       "      <td>Napa Valley</td>\n",
       "      <td>Virginie Boone</td>\n",
       "      <td>Kirkland Signature 2011 Mountain Cuvée Caberne...</td>\n",
       "      <td>Cabernet Sauvignon</td>\n",
       "      <td>Kirkland Signature</td>\n",
       "    </tr>\n",
       "    <tr>\n",
       "      <th>6</th>\n",
       "      <td>Argentina</td>\n",
       "      <td>Felix</td>\n",
       "      <td>87</td>\n",
       "      <td>30.0</td>\n",
       "      <td>Other</td>\n",
       "      <td>Cafayate</td>\n",
       "      <td>Michael Schachner</td>\n",
       "      <td>Felix Lavaque 2010 Felix Malbec (Cafayate)</td>\n",
       "      <td>Malbec</td>\n",
       "      <td>Felix Lavaque</td>\n",
       "    </tr>\n",
       "    <tr>\n",
       "      <th>7</th>\n",
       "      <td>Argentina</td>\n",
       "      <td>Winemaker Selection</td>\n",
       "      <td>87</td>\n",
       "      <td>13.0</td>\n",
       "      <td>Mendoza Province</td>\n",
       "      <td>Mendoza</td>\n",
       "      <td>Michael Schachner</td>\n",
       "      <td>Gaucho Andino 2011 Winemaker Selection Malbec ...</td>\n",
       "      <td>Malbec</td>\n",
       "      <td>Gaucho Andino</td>\n",
       "    </tr>\n",
       "    <tr>\n",
       "      <th>8</th>\n",
       "      <td>Spain</td>\n",
       "      <td>Vendimia Seleccionada Finca Valdelayegua Singl...</td>\n",
       "      <td>87</td>\n",
       "      <td>28.0</td>\n",
       "      <td>Northern Spain</td>\n",
       "      <td>Ribera del Duero</td>\n",
       "      <td>Michael Schachner</td>\n",
       "      <td>Pradorey 2010 Vendimia Seleccionada Finca Vald...</td>\n",
       "      <td>Tempranillo Blend</td>\n",
       "      <td>Pradorey</td>\n",
       "    </tr>\n",
       "    <tr>\n",
       "      <th>9</th>\n",
       "      <td>US</td>\n",
       "      <td>Vin de Maison</td>\n",
       "      <td>87</td>\n",
       "      <td>23.0</td>\n",
       "      <td>Virginia</td>\n",
       "      <td>Virginia</td>\n",
       "      <td>Alexander Peartree</td>\n",
       "      <td>Quiévremont 2012 Vin de Maison Red (Virginia)</td>\n",
       "      <td>Red Blend</td>\n",
       "      <td>Quiévremont</td>\n",
       "    </tr>\n",
       "  </tbody>\n",
       "</table>\n",
       "</div>"
      ],
      "text/plain": [
       "     country                                        designation  points  \\\n",
       "0         US                               Reserve Late Harvest      87   \n",
       "1         US                 Vintner's Reserve Wild Child Block      87   \n",
       "2      Spain                                       Ars In Vitro      87   \n",
       "3      Italy                                            Belsito      87   \n",
       "4     France                                        Les Natures      87   \n",
       "5         US                                     Mountain Cuvée      87   \n",
       "6  Argentina                                              Felix      87   \n",
       "7  Argentina                                Winemaker Selection      87   \n",
       "8      Spain  Vendimia Seleccionada Finca Valdelayegua Singl...      87   \n",
       "9         US                                      Vin de Maison      87   \n",
       "\n",
       "   price           province             region_1         taster_name  \\\n",
       "0   13.0           Michigan  Lake Michigan Shore  Alexander Peartree   \n",
       "1   65.0             Oregon    Willamette Valley        Paul Gregutt   \n",
       "2   15.0     Northern Spain              Navarra   Michael Schachner   \n",
       "3   16.0  Sicily & Sardinia             Vittoria       Kerin O’Keefe   \n",
       "4   27.0             Alsace               Alsace          Roger Voss   \n",
       "5   19.0         California          Napa Valley      Virginie Boone   \n",
       "6   30.0              Other             Cafayate   Michael Schachner   \n",
       "7   13.0   Mendoza Province              Mendoza   Michael Schachner   \n",
       "8   28.0     Northern Spain     Ribera del Duero   Michael Schachner   \n",
       "9   23.0           Virginia             Virginia  Alexander Peartree   \n",
       "\n",
       "                                               title             variety  \\\n",
       "0  St. Julian 2013 Reserve Late Harvest Riesling ...            Riesling   \n",
       "1  Sweet Cheeks 2012 Vintner's Reserve Wild Child...          Pinot Noir   \n",
       "2  Tandem 2011 Ars In Vitro Tempranillo-Merlot (N...  Tempranillo-Merlot   \n",
       "3   Terre di Giurfo 2013 Belsito Frappato (Vittoria)            Frappato   \n",
       "4  Jean-Baptiste Adam 2012 Les Natures Pinot Gris...          Pinot Gris   \n",
       "5  Kirkland Signature 2011 Mountain Cuvée Caberne...  Cabernet Sauvignon   \n",
       "6         Felix Lavaque 2010 Felix Malbec (Cafayate)              Malbec   \n",
       "7  Gaucho Andino 2011 Winemaker Selection Malbec ...              Malbec   \n",
       "8  Pradorey 2010 Vendimia Seleccionada Finca Vald...   Tempranillo Blend   \n",
       "9      Quiévremont 2012 Vin de Maison Red (Virginia)           Red Blend   \n",
       "\n",
       "               winery  \n",
       "0          St. Julian  \n",
       "1        Sweet Cheeks  \n",
       "2              Tandem  \n",
       "3     Terre di Giurfo  \n",
       "4  Jean-Baptiste Adam  \n",
       "5  Kirkland Signature  \n",
       "6       Felix Lavaque  \n",
       "7       Gaucho Andino  \n",
       "8            Pradorey  \n",
       "9         Quiévremont  "
      ]
     },
     "execution_count": 3,
     "metadata": {},
     "output_type": "execute_result"
    }
   ],
   "source": [
    "# Charger les données du fichier CSV des vins\n",
    "wine_df = pd.read_csv('data/winemag-data.csv')\n",
    "# La ligne suivante peut être utilisée pour supprimer toutes les lignes qui ont des valeurs manquantes.\n",
    "#wine_df.dropna(inplace=True)\n",
    "# Afficher les 10 premières lignes du DataFrame des vins\n",
    "wine_df.head(10)"
   ]
  },
  {
   "cell_type": "markdown",
   "metadata": {},
   "source": [
    "### À quoi ressemblerait la distribution de données aléatoires ?\n",
    "Lorsque nous traçons des données aléatoires sur un histogramme, cela devrait approximer une distribution uniforme. En d'autres termes, la hauteur de chaque bin devrait être à peu près la même."
   ]
  },
  {
   "cell_type": "code",
   "execution_count": 4,
   "metadata": {},
   "outputs": [
    {
     "data": {
      "image/png": "[encoded data removed]",
      "text/plain": [
       "<Figure size 936x360 with 1 Axes>"
      ]
     },
     "metadata": {
      "needs_background": "light"
     },
     "output_type": "display_data"
    }
   ],
   "source": [
    "# Créons des données aléatoires et traçons-les en utilisant un histogramme BINS=50.\n",
    "random_values = np.random.randint(-100, 100, size=(10000))\n",
    "random_df = pd.DataFrame(random_values, columns=['value'])\n",
    "random_df['value'].plot(kind='hist', bins=20)\n",
    "plt.savefig(\"figs/random_hist.pdf\")"
   ]
  },
  {
   "cell_type": "markdown",
   "metadata": {},
   "source": [
    "### Échantillonnons les valeurs aléatoires?\n",
    "Le code ci-dessous prend 1000 échantillons de taille 30 et stocke la moyenne de chaque échantillon dans une liste."
   ]
  },
  {
   "cell_type": "code",
   "execution_count": 5,
   "metadata": {},
   "outputs": [],
   "source": [
    "sample_size = 30\n",
    "number_of_samples = 1000\n",
    "random_means = []\n",
    "for i in range(number_of_samples):\n",
    "    random_sample = random_df.sample(n=sample_size)\n",
    "    random_means.append(random_sample['value'].mean())"
   ]
  },
  {
   "cell_type": "markdown",
   "metadata": {},
   "source": [
    "### Tracer les moyennes de l'échantillon aléatoire?\n",
    "Lorsque nous traçons les moyennes des données aléatoires, nous pouvons voir qu'elles approximent une distribution normale. Même si nous savons que les données étaient aléatoires. "
   ]
  },
  {
   "cell_type": "code",
   "execution_count": 6,
   "metadata": {},
   "outputs": [
    {
     "data": {
      "text/plain": [
       "<AxesSubplot:ylabel='Frequency'>"
      ]
     },
     "execution_count": 6,
     "metadata": {},
     "output_type": "execute_result"
    },
    {
     "data": {
      "image/png": "[encoded data removed]",
      "text/plain": [
       "<Figure size 936x360 with 1 Axes>"
      ]
     },
     "metadata": {
      "needs_background": "light"
     },
     "output_type": "display_data"
    }
   ],
   "source": [
    "random_means_df = pd.DataFrame(random_means, columns=['value'])\n",
    "random_means_df['value'].plot(kind='hist', bins=20)\n"
   ]
  },
  {
   "cell_type": "markdown",
   "metadata": {},
   "source": [
    "### Ces données sont-elles distribuées normalement ??"
   ]
  },
  {
   "cell_type": "code",
   "execution_count": 7,
   "metadata": {},
   "outputs": [
    {
     "name": "stdout",
     "output_type": "stream",
     "text": [
      "La null hypothèse ne peut pas être rejetée.\n"
     ]
    }
   ],
   "source": [
    "alpha = 0.005\n",
    "k2, p = stats.normaltest(random_means_df['value'])\n",
    "if p < alpha:  # Hypothèse nulle : l'échantillon provient d'une distribution normale.\n",
    "    print(\"L'hypothèse nulle peut être rejetée\")\n",
    "else:\n",
    "    print(\"La null hypothèse ne peut pas être rejetée.\")"
   ]
  },
  {
   "cell_type": "markdown",
   "metadata": {},
   "source": [
    "### Visualisation des données de prix du vin.\n",
    "Le code suivant trace les données de prix du vin sur un histogramme. Clairement, les données de prix du vin ne sont pas distribuées normalement."
   ]
  },
  {
   "cell_type": "code",
   "execution_count": 8,
   "metadata": {
    "scrolled": false
   },
   "outputs": [
    {
     "data": {
      "text/plain": [
       "Text(0.5, 0, 'prix')"
      ]
     },
     "execution_count": 8,
     "metadata": {},
     "output_type": "execute_result"
    },
    {
     "data": {
      "image/png": "[encoded data removed]",
      "text/plain": [
       "<Figure size 936x360 with 1 Axes>"
      ]
     },
     "metadata": {
      "needs_background": "light"
     },
     "output_type": "display_data"
    }
   ],
   "source": [
    "# Traçons les données de prix\n",
    "ax = wine_df['price'].plot(kind='hist', bins=20)\n",
    "ax.set_title(\"Distribution de \" + str(sample_size) + \" prix d'échantillon de vin\")\n",
    "ax.set_ylabel('Densité de prix')\n",
    "ax.set_xlabel('prix')"
   ]
  },
  {
   "cell_type": "markdown",
   "metadata": {},
   "source": [
    "### Prénons quelques échantillons aléatoires supplémentaires des données de prix du vin\n",
    "Le code ci-dessous prend 10 000 échantillons de taille 100 à partir de l'échantillon de 10 000."
   ]
  },
  {
   "cell_type": "code",
   "execution_count": 9,
   "metadata": {},
   "outputs": [],
   "source": [
    "sample_size = 100\n",
    "number_of_samples = 10000\n",
    "sample_means = []\n",
    "for i in range(number_of_samples):\n",
    "    wine_sample = wine_df.sample(n=sample_size)\n",
    "    sample_means.append(wine_sample['price'].mean())"
   ]
  },
  {
   "cell_type": "markdown",
   "metadata": {},
   "source": [
    "### À quoi ressemble la distribution des moyennes?"
   ]
  },
  {
   "cell_type": "code",
   "execution_count": 10,
   "metadata": {},
   "outputs": [
    {
     "name": "stdout",
     "output_type": "stream",
     "text": [
      "value    39.180504\n",
      "dtype: float64\n"
     ]
    },
    {
     "data": {
      "image/png": "[encoded data removed]",
      "text/plain": [
       "<Figure size 936x360 with 1 Axes>"
      ]
     },
     "metadata": {
      "needs_background": "light"
     },
     "output_type": "display_data"
    }
   ],
   "source": [
    "sampled_prices = pd.DataFrame(sample_means, columns=['value'])\n",
    "ax = sampled_prices['value'].plot(kind='hist', bins=20)\n",
    "ax.set_title(\"Distribution de 10 000 moyennes d'échantillons (Prix) n=\" + str(sample_size))\n",
    "ax.set_ylabel('Densité de prix')\n",
    "ax.set_xlabel('Prix moyen')\n",
    "plt.savefig(\"figs/sample_means_price.pdf\")\n",
    "print(sampled_prices.mean())"
   ]
  },
  {
   "cell_type": "markdown",
   "metadata": {},
   "source": [
    "### Ces données suivent-elles une distribution normale?"
   ]
  },
  {
   "cell_type": "code",
   "execution_count": 11,
   "metadata": {},
   "outputs": [
    {
     "name": "stdout",
     "output_type": "stream",
     "text": [
      "L'hypothèse nulle peut être rejetée\n"
     ]
    }
   ],
   "source": [
    "alpha = 0.05\n",
    "k2, p = stats.normaltest(sampled_prices['value'])\n",
    "if p < alpha:  # Hypothèse nulle : l'échantillon provient d'une distribution normale\n",
    "    print(\"L'hypothèse nulle peut être rejetée\")\n",
    "else:\n",
    "    print(\"La null hypothèse ne peut pas être rejetée\")"
   ]
  },
  {
   "cell_type": "markdown",
   "metadata": {},
   "source": [
    "### Comparaison de distributions à l'aide d'un t-test\n",
    "Le code ci-dessous utilise un test t pour vérifier si un échantillon de points de vin a une moyenne similaire à la moyenne de la population (la moyenne de la population est la moyenne de l'ensemble des données)"
   ]
  },
  {
   "cell_type": "code",
   "execution_count": 12,
   "metadata": {},
   "outputs": [
    {
     "ename": "SyntaxError",
     "evalue": "invalid syntax (<ipython-input-12-33f0668bb2b9>, line 13)",
     "output_type": "error",
     "traceback": [
      "\u001b[1;36m  File \u001b[1;32m\"<ipython-input-12-33f0668bb2b9>\"\u001b[1;36m, line \u001b[1;32m13\u001b[0m\n\u001b[1;33m    print(\"\"Points moyens de la population \" + str(pop_mean) + \" Points moyens de l'échantillon\" + str(sample_mean))\u001b[0m\n\u001b[1;37m            ^\u001b[0m\n\u001b[1;31mSyntaxError\u001b[0m\u001b[1;31m:\u001b[0m invalid syntax\n"
     ]
    }
   ],
   "source": [
    "#Prenez un échantillon de données des vins n = 30\n",
    "sample_size = 30\n",
    "wine_sample_df = wine_df.sample(n=sample_size)\n",
    "\n",
    "# Hypothèse\n",
    "print(\"Un échantillon de 30 points de vin aléatoires a une moyenne en ligne avec la moyenne de la population.\")\n",
    "\n",
    "# Moyenne de la population\n",
    "pop_mean =  wine_df['points'].mean()\n",
    "# Moyenne de l'échantillon aléatoire n=30\n",
    "sample_mean = wine_sample_df['points'].mean()\n",
    "\n",
    "print(\"\"Points moyens de la population \" + str(pop_mean) + \" Points moyens de l'échantillon\" + str(sample_mean))\n",
    "\n",
    "# Test pour voir si la moyenne de l'échantillon est similaire à la moyenne de la population.\n",
    "results =  stats.ttest_1samp(wine_sample_df['points'], pop_mean)\n",
    "\n",
    "print(\"Score statistique = %.6f Valeur-P = %.6f\" % (results.statistic, results.pvalue))\n",
    "print(\"Accepter l'hypothèse nulle si la valeur p > 0,05\")\n",
    "print(\"Sinon, rejetez l'hypothèse nulle et acceptez l'hypothèse alternative.\")\n",
    "\n",
    "if results.pvalue < alpha:  # Hypothèse nulle : la moyenne de l'échantillon est similaire à la moyenne de la population.\n",
    "    print(\"The null hypothesis can be rejected\")\n",
    "else:\n",
    "    print(\"The null hypothesis cannot be rejected\")"
   ]
  },
  {
   "cell_type": "markdown",
   "metadata": {},
   "source": [
    "### Comparaison de distributions à l'aide d'un t-test\n",
    "\"On peut également utiliser un t-test pour vérifier si la moyenne de l'échantillon de points de vin est en ligne avec une moyenne arbitraire, disons 50."
   ]
  },
  {
   "cell_type": "code",
   "execution_count": 13,
   "metadata": {},
   "outputs": [
    {
     "name": "stdout",
     "output_type": "stream",
     "text": [
      "Sample of 30 random points has mean of 50\n",
      "Sample mean points 88.33333333333333\n",
      "Stat score = 70.031506 P-value = 0.000000\n",
      "Accept NULL hypothesis if p-value > 0.05\n",
      "Otherwise reject NULL hypothesis and accept alternative\n",
      "L'hypothèse nulle peut être rejetée\n"
     ]
    }
   ],
   "source": [
    "#Prélever un échantillon de l'ensemble des données sur le vin n=30\n",
    "\n",
    "sample_size = 30\n",
    "wine_sample_df = wine_df.sample(n=sample_size)\n",
    "\n",
    "# Hypothesis\n",
    "print(\"Sample of 30 random points has mean of 50\")\n",
    "\n",
    "# Random sample mean n=30\n",
    "sample_mean = wine_sample_df['points'].mean()\n",
    "print(\"Sample mean points \" + str(sample_mean))\n",
    "\n",
    "# Test pour voir si la moyenne de l'échantillon est de 50\n",
    "results =  stats.ttest_1samp(wine_sample_df['points'], 50)\n",
    "\n",
    "print(\"Stat score = %.6f P-value = %.6f\" % (results.statistic, results.pvalue))\n",
    "print(\"Accept NULL hypothesis if p-value > 0.05\")\n",
    "print(\"Otherwise reject NULL hypothesis and accept alternative\")\n",
    "\n",
    "if results.pvalue < alpha:  # null hypothesis: Sample of 30 random points has mean of 50\n",
    "    print(\"L'hypothèse nulle peut être rejetée\")\n",
    "else:\n",
    "    print(\"L'hypothèse nulle ne peut pas être rejetée\")"
   ]
  },
  {
   "cell_type": "code",
   "execution_count": null,
   "metadata": {},
   "outputs": [],
   "source": []
  }
 ],
 "metadata": {
  "kernelspec": {
   "display_name": "Python 3",
   "language": "python",
   "name": "python3"
  },
  "language_info": {
   "codemirror_mode": {
    "name": "ipython",
    "version": 3
   },
   "file_extension": ".py",
   "mimetype": "text/x-python",
   "name": "python",
   "nbconvert_exporter": "python",
   "pygments_lexer": "ipython3",
   "version": "3.8.8"
  }
 },
 "nbformat": 4,
 "nbformat_minor": 2
}
